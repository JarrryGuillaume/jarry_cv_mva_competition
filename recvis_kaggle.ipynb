{
  "cells": [
    {
      "cell_type": "code",
      "execution_count": null,
      "metadata": {
        "colab": {
          "base_uri": "https://localhost:8080/"
        },
        "id": "3NUao492FIBx",
        "outputId": "ab43d576-2cdf-4815-a3db-0783a126133d"
      },
      "outputs": [
        {
          "output_type": "stream",
          "name": "stdout",
          "text": [
            "fatal: destination path 'jarry_cv_mva_competition' already exists and is not an empty directory.\n"
          ]
        }
      ],
      "source": [
        "!git clone https://github.com/JarrryGuillaume/jarry_cv_mva_competition.git"
      ]
    },
    {
      "cell_type": "code",
      "execution_count": null,
      "metadata": {
        "id": "D6WktNGkAkBU"
      },
      "outputs": [],
      "source": [
        "import sys\n",
        "import os\n",
        "from google.colab import drive\n",
        "sys.path.append(\"jarry_cv_mva_competition\")\n",
        "sys.path.append(\"drive/MyDrive/models\")\n",
        "from IPython.display import clear_output\n",
        "import torch, timm\n",
        "import matplotlib as plt\n",
        "from jarry_cv_mva_competition.main import main\n",
        "from jarry_cv_mva_competition.evaluate import test\n",
        "from jarry_cv_mva_competition.model_factory import ModelFactory"
      ]
    },
    {
      "cell_type": "code",
      "source": [
        "lr_body = 1e-5\n",
        "lr_head = 1e-3\n",
        "model_type = \"vit_large_patch16_224_in21k\"\n",
        "tuning_layers = 2\n",
        "model_name = model_type + f\"_fine_tuned_{tuning_layers}_{lr_body}_{lr_head}\"\n",
        "model_path = \"drive/MyDrive/experiment/best_\" + model_name + \".pth\"\n",
        "hidden_layers=None\n",
        "\n",
        "main(\n",
        "         data_folder=\"drive/MyDrive/mva_competition\",\n",
        "         experiment_folder=\"drive/MyDrive/experiment\",\n",
        "         model_name=model_name,\n",
        "         model_type=model_type,\n",
        "         model_path=None,\n",
        "         batch_size=48,\n",
        "         num_workers=2,\n",
        "         momentum=0.5,\n",
        "         epochs=100,\n",
        "         seed=42,\n",
        "         hidden_layers=hidden_layers,\n",
        "         lr_head=lr_head,\n",
        "         lr_body=lr_body,\n",
        "         saving_frequency=5,\n",
        "         log_interval=50,\n",
        "         tuning_layers=tuning_layers,\n",
        "         fine_tune=True,\n",
        "         optimizer=\"AdamW\",\n",
        "     )\n"
      ],
      "metadata": {
        "colab": {
          "base_uri": "https://localhost:8080/",
          "height": 347,
          "referenced_widgets": [
            "7f27461b10704a44a5c3863d98d82c2e",
            "722280c80abf4462ac6fe5ba0e9e8cf1",
            "9142a71e6b6b433d99c324b96940f763",
            "6ba1a9b723614addbec503ec9061e2ff",
            "7e19a59d566a426387e9535731690691",
            "4351eff3c5d8432c8fb4d6fcfdfa9183",
            "95cc0b45a6424d4ca3788d6c0cf19107",
            "13a21b3f190f4057ae950b5db981ccdc",
            "62c9b4e772984ff4b251c870c2f6a27b",
            "ea129d44e3284fcc9c09a10304ccb561",
            "9ade8517e6e1447c9888be83e5bfd992"
          ]
        },
        "id": "N7VHAVMu0b90",
        "outputId": "1bab9990-9d43-46ea-db6b-11fa64c89c45"
      },
      "execution_count": null,
      "outputs": [
        {
          "output_type": "stream",
          "name": "stdout",
          "text": [
            "Using the Vision Transformer architecture.\n"
          ]
        },
        {
          "output_type": "stream",
          "name": "stderr",
          "text": [
            "/usr/local/lib/python3.10/dist-packages/timm/models/_factory.py:117: UserWarning: Mapping deprecated model name vit_large_patch16_224_in21k to current vit_large_patch16_224.augreg_in21k.\n",
            "  model = create_fn(\n",
            "/usr/local/lib/python3.10/dist-packages/huggingface_hub/utils/_auth.py:94: UserWarning: \n",
            "The secret `HF_TOKEN` does not exist in your Colab secrets.\n",
            "To authenticate with the Hugging Face Hub, create a token in your settings tab (https://huggingface.co/settings/tokens), set it as secret in your Google Colab and restart your session.\n",
            "You will be able to reuse this secret in all of your notebooks.\n",
            "Please note that authentication is recommended but still optional to access public models or datasets.\n",
            "  warnings.warn(\n"
          ]
        },
        {
          "output_type": "display_data",
          "data": {
            "text/plain": [
              "model.safetensors:   0%|          | 0.00/1.30G [00:00<?, ?B/s]"
            ],
            "application/vnd.jupyter.widget-view+json": {
              "version_major": 2,
              "version_minor": 0,
              "model_id": "7f27461b10704a44a5c3863d98d82c2e"
            }
          },
          "metadata": {}
        },
        {
          "output_type": "stream",
          "name": "stdout",
          "text": [
            "successfully parrallelized\n",
            "Using GPU\n",
            "Train Epoch: 1 [0/20000 (0%)]\tLoss: 9.315812\n",
            "Train Epoch: 1 [2400/20000 (12%)]\tLoss: 6.470876\n",
            "Train Epoch: 1 [4800/20000 (24%)]\tLoss: 5.663347\n",
            "Train Epoch: 1 [7200/20000 (36%)]\tLoss: 5.024791\n",
            "Train Epoch: 1 [9600/20000 (48%)]\tLoss: 5.102065\n"
          ]
        }
      ]
    },
    {
      "cell_type": "code",
      "source": [
        "test(\n",
        "    model_name=\"vit_deit_fine_tuned_5\",\n",
        "    model_path=\"drive/MyDrive/experiment/best_vit_deit_fine_tuned_5.pth\",\n",
        "    model_type=\"deit_base_patch16_224\",\n",
        "    outfile=\"drive/MyDrive/test_results/vit_deit_fine_tuned.csv\",\n",
        "    data=\"drive/MyDrive/mva_competition\",\n",
        "    batch_size=32,\n",
        "    num_workers=4,\n",
        ")"
      ],
      "metadata": {
        "id": "w-Ns8m3Fggf2"
      },
      "execution_count": null,
      "outputs": []
    },
    {
      "cell_type": "code",
      "source": [
        "model_type = \"deit_small_patch16_224\"\n",
        "tuning_layers = 4\n",
        "model_name = \"vit_\" + model_type + f\"_fine_tuned_{tuning_layers}\"\n",
        "model_path = \"drive/MyDrive/experiment/best_\" + model_name + \".pth\"\n",
        "\n",
        "main(\n",
        "         data_folder=\"drive/MyDrive/mva_competition\",\n",
        "         experiment_folder=\"drive/MyDrive/experiment\",\n",
        "         model_name=model_name,\n",
        "         model_type=model_type,\n",
        "         model_path=model_path,\n",
        "         batch_size=128,\n",
        "         num_workers=2,\n",
        "         momentum=0.5,\n",
        "         epochs=100,\n",
        "         seed=42,\n",
        "         hidden_layers=4,\n",
        "         lr=1e-5,\n",
        "         saving_frequency=5,\n",
        "         log_interval=10,\n",
        "         tuning_layers=tuning_layers,\n",
        "         fine_tune=True,\n",
        "         optimizer=\"AdamW\",\n",
        "     )"
      ],
      "metadata": {
        "colab": {
          "base_uri": "https://localhost:8080/",
          "height": 1000
        },
        "id": "z8sZXGi6WdJd",
        "outputId": "d4466884-1cdc-46a3-d92a-4840c3b8b991"
      },
      "execution_count": null,
      "outputs": [
        {
          "output_type": "stream",
          "name": "stdout",
          "text": [
            "Using the Vision Transformer architecture.\n"
          ]
        },
        {
          "output_type": "stream",
          "name": "stderr",
          "text": [
            "/content/jarry_cv_mva_competition/model_factory.py:129: FutureWarning: You are using `torch.load` with `weights_only=False` (the current default value), which uses the default pickle module implicitly. It is possible to construct malicious pickle data which will execute arbitrary code during unpickling (See https://github.com/pytorch/pytorch/blob/main/SECURITY.md#untrusted-models for more details). In a future release, the default value for `weights_only` will be flipped to `True`. This limits the functions that could be executed during unpickling. Arbitrary objects will no longer be allowed to be loaded via this mode unless they are explicitly allowlisted by the user via `torch.serialization.add_safe_globals`. We recommend you start setting `weights_only=True` for any use case where you don't have full control of the loaded file. Please open an issue on GitHub for any issues related to this experimental feature.\n",
            "  state_dict = torch.load(self.model_path)\n"
          ]
        },
        {
          "output_type": "stream",
          "name": "stdout",
          "text": [
            "Succesfully loaded weights\n",
            "successfully parrallelized\n",
            "Using GPU\n",
            "Train Epoch: 1 [0/20000 (0%)]\tLoss: 0.490580\n",
            "Train Epoch: 1 [1280/20000 (6%)]\tLoss: 0.554922\n",
            "Train Epoch: 1 [2560/20000 (13%)]\tLoss: 0.597116\n",
            "Train Epoch: 1 [3840/20000 (19%)]\tLoss: 0.658799\n",
            "Train Epoch: 1 [5120/20000 (25%)]\tLoss: 0.465803\n",
            "Train Epoch: 1 [6400/20000 (32%)]\tLoss: 0.679854\n",
            "Train Epoch: 1 [7680/20000 (38%)]\tLoss: 0.578328\n",
            "Train Epoch: 1 [8960/20000 (45%)]\tLoss: 0.629544\n",
            "Train Epoch: 1 [10240/20000 (51%)]\tLoss: 0.671104\n",
            "Train Epoch: 1 [11520/20000 (57%)]\tLoss: 0.387643\n",
            "Train Epoch: 1 [12800/20000 (64%)]\tLoss: 0.674644\n",
            "Train Epoch: 1 [14080/20000 (70%)]\tLoss: 0.356010\n",
            "Train Epoch: 1 [15360/20000 (76%)]\tLoss: 0.299100\n",
            "Train Epoch: 1 [16640/20000 (83%)]\tLoss: 0.447406\n",
            "Train Epoch: 1 [17920/20000 (89%)]\tLoss: 0.378378\n",
            "Train Epoch: 1 [19200/20000 (96%)]\tLoss: 0.439827\n",
            "Epoch : 1, Training accuracy : 89.43499755859375 %\n",
            "Epoch : 1, Validation accuracy : 82.44000244140625 %\n",
            "Train Epoch: 2 [0/20000 (0%)]\tLoss: 0.479079\n",
            "Train Epoch: 2 [1280/20000 (6%)]\tLoss: 0.635548\n",
            "Train Epoch: 2 [2560/20000 (13%)]\tLoss: 0.486161\n",
            "Train Epoch: 2 [3840/20000 (19%)]\tLoss: 0.384565\n",
            "Train Epoch: 2 [5120/20000 (25%)]\tLoss: 0.515767\n",
            "Train Epoch: 2 [6400/20000 (32%)]\tLoss: 0.400588\n",
            "Train Epoch: 2 [7680/20000 (38%)]\tLoss: 0.436779\n",
            "Train Epoch: 2 [8960/20000 (45%)]\tLoss: 0.418535\n",
            "Train Epoch: 2 [10240/20000 (51%)]\tLoss: 0.419337\n",
            "Train Epoch: 2 [11520/20000 (57%)]\tLoss: 0.257164\n",
            "Train Epoch: 2 [12800/20000 (64%)]\tLoss: 0.523023\n",
            "Train Epoch: 2 [14080/20000 (70%)]\tLoss: 0.454762\n",
            "Train Epoch: 2 [15360/20000 (76%)]\tLoss: 0.371280\n",
            "Train Epoch: 2 [16640/20000 (83%)]\tLoss: 0.489934\n",
            "Train Epoch: 2 [17920/20000 (89%)]\tLoss: 0.439823\n",
            "Train Epoch: 2 [19200/20000 (96%)]\tLoss: 0.461963\n",
            "Epoch : 2, Training accuracy : 91.80500030517578 %\n",
            "Epoch : 2, Validation accuracy : 82.72000122070312 %\n",
            "Train Epoch: 3 [0/20000 (0%)]\tLoss: 0.557781\n",
            "Train Epoch: 3 [1280/20000 (6%)]\tLoss: 0.581293\n",
            "Train Epoch: 3 [2560/20000 (13%)]\tLoss: 0.434169\n",
            "Train Epoch: 3 [3840/20000 (19%)]\tLoss: 0.416652\n",
            "Train Epoch: 3 [5120/20000 (25%)]\tLoss: 0.299363\n",
            "Train Epoch: 3 [6400/20000 (32%)]\tLoss: 0.500727\n",
            "Train Epoch: 3 [7680/20000 (38%)]\tLoss: 0.510921\n",
            "Train Epoch: 3 [8960/20000 (45%)]\tLoss: 0.386350\n",
            "Train Epoch: 3 [10240/20000 (51%)]\tLoss: 0.397278\n",
            "Train Epoch: 3 [11520/20000 (57%)]\tLoss: 0.356606\n",
            "Train Epoch: 3 [12800/20000 (64%)]\tLoss: 0.398512\n",
            "Train Epoch: 3 [14080/20000 (70%)]\tLoss: 0.271425\n",
            "Train Epoch: 3 [15360/20000 (76%)]\tLoss: 0.309201\n",
            "Train Epoch: 3 [16640/20000 (83%)]\tLoss: 0.322888\n",
            "Train Epoch: 3 [17920/20000 (89%)]\tLoss: 0.471414\n",
            "Train Epoch: 3 [19200/20000 (96%)]\tLoss: 0.390316\n",
            "Epoch : 3, Training accuracy : 92.88999938964844 %\n",
            "Epoch : 3, Validation accuracy : 82.91999816894531 %\n",
            "Train Epoch: 4 [0/20000 (0%)]\tLoss: 0.661124\n",
            "Train Epoch: 4 [1280/20000 (6%)]\tLoss: 0.487229\n",
            "Train Epoch: 4 [2560/20000 (13%)]\tLoss: 0.478723\n",
            "Train Epoch: 4 [3840/20000 (19%)]\tLoss: 0.682560\n",
            "Train Epoch: 4 [5120/20000 (25%)]\tLoss: 0.611952\n",
            "Train Epoch: 4 [6400/20000 (32%)]\tLoss: 0.578717\n",
            "Train Epoch: 4 [7680/20000 (38%)]\tLoss: 0.426461\n",
            "Train Epoch: 4 [8960/20000 (45%)]\tLoss: 0.397847\n",
            "Train Epoch: 4 [10240/20000 (51%)]\tLoss: 0.397874\n",
            "Train Epoch: 4 [11520/20000 (57%)]\tLoss: 0.526749\n",
            "Train Epoch: 4 [12800/20000 (64%)]\tLoss: 0.400275\n",
            "Train Epoch: 4 [14080/20000 (70%)]\tLoss: 0.417993\n",
            "Train Epoch: 4 [15360/20000 (76%)]\tLoss: 0.368979\n",
            "Train Epoch: 4 [16640/20000 (83%)]\tLoss: 0.383017\n",
            "Train Epoch: 4 [17920/20000 (89%)]\tLoss: 0.614884\n",
            "Train Epoch: 4 [19200/20000 (96%)]\tLoss: 0.505529\n",
            "Epoch : 4, Training accuracy : 90.34500122070312 %\n",
            "Epoch : 4, Validation accuracy : 82.36000061035156 %\n",
            "Train Epoch: 5 [0/20000 (0%)]\tLoss: 0.321116\n",
            "Train Epoch: 5 [1280/20000 (6%)]\tLoss: 0.541974\n",
            "Train Epoch: 5 [2560/20000 (13%)]\tLoss: 0.433515\n",
            "Train Epoch: 5 [3840/20000 (19%)]\tLoss: 0.371566\n",
            "Train Epoch: 5 [5120/20000 (25%)]\tLoss: 0.477284\n",
            "Train Epoch: 5 [6400/20000 (32%)]\tLoss: 0.404713\n",
            "Train Epoch: 5 [7680/20000 (38%)]\tLoss: 0.412088\n",
            "Train Epoch: 5 [8960/20000 (45%)]\tLoss: 0.341928\n",
            "Train Epoch: 5 [10240/20000 (51%)]\tLoss: 0.361819\n",
            "Train Epoch: 5 [11520/20000 (57%)]\tLoss: 0.492310\n",
            "Train Epoch: 5 [12800/20000 (64%)]\tLoss: 0.408076\n",
            "Train Epoch: 5 [14080/20000 (70%)]\tLoss: 0.247546\n",
            "Train Epoch: 5 [15360/20000 (76%)]\tLoss: 0.513614\n",
            "Train Epoch: 5 [16640/20000 (83%)]\tLoss: 0.253906\n",
            "Train Epoch: 5 [17920/20000 (89%)]\tLoss: 0.427694\n",
            "Train Epoch: 5 [19200/20000 (96%)]\tLoss: 0.366413\n",
            "Epoch : 5, Training accuracy : 91.49500274658203 %\n",
            "Epoch : 5, Validation accuracy : 82.72000122070312 %\n",
            "Train Epoch: 6 [0/20000 (0%)]\tLoss: 0.504079\n",
            "Train Epoch: 6 [1280/20000 (6%)]\tLoss: 0.230573\n",
            "Train Epoch: 6 [2560/20000 (13%)]\tLoss: 0.301194\n",
            "Train Epoch: 6 [3840/20000 (19%)]\tLoss: 0.412982\n",
            "Train Epoch: 6 [5120/20000 (25%)]\tLoss: 0.447124\n",
            "Train Epoch: 6 [6400/20000 (32%)]\tLoss: 0.372461\n",
            "Train Epoch: 6 [7680/20000 (38%)]\tLoss: 0.463266\n",
            "Train Epoch: 6 [8960/20000 (45%)]\tLoss: 0.514862\n",
            "Train Epoch: 6 [10240/20000 (51%)]\tLoss: 0.369442\n",
            "Train Epoch: 6 [11520/20000 (57%)]\tLoss: 0.343259\n",
            "Train Epoch: 6 [12800/20000 (64%)]\tLoss: 0.293242\n",
            "Train Epoch: 6 [14080/20000 (70%)]\tLoss: 0.628101\n",
            "Train Epoch: 6 [15360/20000 (76%)]\tLoss: 0.323942\n",
            "Train Epoch: 6 [16640/20000 (83%)]\tLoss: 0.328646\n",
            "Train Epoch: 6 [17920/20000 (89%)]\tLoss: 0.346356\n",
            "Train Epoch: 6 [19200/20000 (96%)]\tLoss: 0.418586\n",
            "Epoch : 6, Training accuracy : 92.55500030517578 %\n",
            "Epoch : 6, Validation accuracy : 83.0 %\n",
            "Train Epoch: 7 [0/20000 (0%)]\tLoss: 0.264077\n",
            "Train Epoch: 7 [1280/20000 (6%)]\tLoss: 0.333464\n",
            "Train Epoch: 7 [2560/20000 (13%)]\tLoss: 0.392601\n",
            "Train Epoch: 7 [3840/20000 (19%)]\tLoss: 0.460717\n",
            "Train Epoch: 7 [5120/20000 (25%)]\tLoss: 0.288495\n"
          ]
        },
        {
          "output_type": "error",
          "ename": "KeyboardInterrupt",
          "evalue": "",
          "traceback": [
            "\u001b[0;31m---------------------------------------------------------------------------\u001b[0m",
            "\u001b[0;31mKeyboardInterrupt\u001b[0m                         Traceback (most recent call last)",
            "\u001b[0;32m<ipython-input-22-a1aa40cdb236>\u001b[0m in \u001b[0;36m<cell line: 6>\u001b[0;34m()\u001b[0m\n\u001b[1;32m      4\u001b[0m \u001b[0mmodel_path\u001b[0m \u001b[0;34m=\u001b[0m \u001b[0;34m\"drive/MyDrive/experiment/best_\"\u001b[0m \u001b[0;34m+\u001b[0m \u001b[0mmodel_name\u001b[0m \u001b[0;34m+\u001b[0m \u001b[0;34m\".pth\"\u001b[0m\u001b[0;34m\u001b[0m\u001b[0;34m\u001b[0m\u001b[0m\n\u001b[1;32m      5\u001b[0m \u001b[0;34m\u001b[0m\u001b[0m\n\u001b[0;32m----> 6\u001b[0;31m main(\n\u001b[0m\u001b[1;32m      7\u001b[0m          \u001b[0mdata_folder\u001b[0m\u001b[0;34m=\u001b[0m\u001b[0;34m\"drive/MyDrive/mva_competition\"\u001b[0m\u001b[0;34m,\u001b[0m\u001b[0;34m\u001b[0m\u001b[0;34m\u001b[0m\u001b[0m\n\u001b[1;32m      8\u001b[0m          \u001b[0mexperiment_folder\u001b[0m\u001b[0;34m=\u001b[0m\u001b[0;34m\"drive/MyDrive/experiment\"\u001b[0m\u001b[0;34m,\u001b[0m\u001b[0;34m\u001b[0m\u001b[0;34m\u001b[0m\u001b[0m\n",
            "\u001b[0;32m/content/jarry_cv_mva_competition/main.py\u001b[0m in \u001b[0;36mmain\u001b[0;34m(data_folder, experiment_folder, model_name, model_path, model_type, batch_size, num_workers, momentum, epochs, seed, lr, saving_frequency, log_interval, fine_tune, optimizer, hidden_layers, tuning_layers)\u001b[0m\n\u001b[1;32m    140\u001b[0m     \u001b[0;32mfor\u001b[0m \u001b[0mepoch\u001b[0m \u001b[0;32min\u001b[0m \u001b[0mrange\u001b[0m\u001b[0;34m(\u001b[0m\u001b[0;36m1\u001b[0m\u001b[0;34m,\u001b[0m \u001b[0mepochs\u001b[0m \u001b[0;34m+\u001b[0m \u001b[0;36m1\u001b[0m\u001b[0;34m)\u001b[0m\u001b[0;34m:\u001b[0m\u001b[0;34m\u001b[0m\u001b[0;34m\u001b[0m\u001b[0m\n\u001b[1;32m    141\u001b[0m         \u001b[0;31m# Training loop\u001b[0m\u001b[0;34m\u001b[0m\u001b[0;34m\u001b[0m\u001b[0m\n\u001b[0;32m--> 142\u001b[0;31m         \u001b[0mtrain_loss\u001b[0m\u001b[0;34m,\u001b[0m \u001b[0mtrain_accuracy\u001b[0m \u001b[0;34m=\u001b[0m \u001b[0mtrain\u001b[0m\u001b[0;34m(\u001b[0m\u001b[0mmodel\u001b[0m\u001b[0;34m,\u001b[0m \u001b[0moptimizer\u001b[0m\u001b[0;34m,\u001b[0m \u001b[0mtrain_loader\u001b[0m\u001b[0;34m,\u001b[0m \u001b[0muse_cuda\u001b[0m\u001b[0;34m,\u001b[0m \u001b[0mepoch\u001b[0m\u001b[0;34m,\u001b[0m \u001b[0mlog_interval\u001b[0m\u001b[0;34m)\u001b[0m\u001b[0;34m\u001b[0m\u001b[0;34m\u001b[0m\u001b[0m\n\u001b[0m\u001b[1;32m    143\u001b[0m         \u001b[0mtrain_losses\u001b[0m\u001b[0;34m.\u001b[0m\u001b[0mappend\u001b[0m\u001b[0;34m(\u001b[0m\u001b[0mtrain_loss\u001b[0m\u001b[0;34m)\u001b[0m\u001b[0;34m\u001b[0m\u001b[0;34m\u001b[0m\u001b[0m\n\u001b[1;32m    144\u001b[0m         \u001b[0mtrain_accuracies\u001b[0m\u001b[0;34m.\u001b[0m\u001b[0mappend\u001b[0m\u001b[0;34m(\u001b[0m\u001b[0mtrain_accuracy\u001b[0m\u001b[0;34m)\u001b[0m\u001b[0;34m\u001b[0m\u001b[0;34m\u001b[0m\u001b[0m\n",
            "\u001b[0;32m/content/jarry_cv_mva_competition/main.py\u001b[0m in \u001b[0;36mtrain\u001b[0;34m(model, optimizer, train_loader, use_cuda, epoch, log_interval)\u001b[0m\n\u001b[1;32m     21\u001b[0m     \u001b[0mcorrect\u001b[0m \u001b[0;34m=\u001b[0m \u001b[0;36m0\u001b[0m\u001b[0;34m\u001b[0m\u001b[0;34m\u001b[0m\u001b[0m\n\u001b[1;32m     22\u001b[0m     \u001b[0mtotal_loss\u001b[0m \u001b[0;34m=\u001b[0m \u001b[0;36m0\u001b[0m\u001b[0;34m\u001b[0m\u001b[0;34m\u001b[0m\u001b[0m\n\u001b[0;32m---> 23\u001b[0;31m     \u001b[0;32mfor\u001b[0m \u001b[0mbatch_idx\u001b[0m\u001b[0;34m,\u001b[0m \u001b[0;34m(\u001b[0m\u001b[0mdata\u001b[0m\u001b[0;34m,\u001b[0m \u001b[0mtarget\u001b[0m\u001b[0;34m)\u001b[0m \u001b[0;32min\u001b[0m \u001b[0menumerate\u001b[0m\u001b[0;34m(\u001b[0m\u001b[0mtrain_loader\u001b[0m\u001b[0;34m)\u001b[0m\u001b[0;34m:\u001b[0m\u001b[0;34m\u001b[0m\u001b[0;34m\u001b[0m\u001b[0m\n\u001b[0m\u001b[1;32m     24\u001b[0m         \u001b[0;32mif\u001b[0m \u001b[0muse_cuda\u001b[0m\u001b[0;34m:\u001b[0m\u001b[0;34m\u001b[0m\u001b[0;34m\u001b[0m\u001b[0m\n\u001b[1;32m     25\u001b[0m             \u001b[0mdata\u001b[0m\u001b[0;34m,\u001b[0m \u001b[0mtarget\u001b[0m \u001b[0;34m=\u001b[0m \u001b[0mdata\u001b[0m\u001b[0;34m.\u001b[0m\u001b[0mcuda\u001b[0m\u001b[0;34m(\u001b[0m\u001b[0;34m)\u001b[0m\u001b[0;34m,\u001b[0m \u001b[0mtarget\u001b[0m\u001b[0;34m.\u001b[0m\u001b[0mcuda\u001b[0m\u001b[0;34m(\u001b[0m\u001b[0;34m)\u001b[0m\u001b[0;34m\u001b[0m\u001b[0;34m\u001b[0m\u001b[0m\n",
            "\u001b[0;32m/usr/local/lib/python3.10/dist-packages/torch/utils/data/dataloader.py\u001b[0m in \u001b[0;36m__next__\u001b[0;34m(self)\u001b[0m\n\u001b[1;32m    699\u001b[0m                 \u001b[0;31m# TODO(https://github.com/pytorch/pytorch/issues/76750)\u001b[0m\u001b[0;34m\u001b[0m\u001b[0;34m\u001b[0m\u001b[0m\n\u001b[1;32m    700\u001b[0m                 \u001b[0mself\u001b[0m\u001b[0;34m.\u001b[0m\u001b[0m_reset\u001b[0m\u001b[0;34m(\u001b[0m\u001b[0;34m)\u001b[0m  \u001b[0;31m# type: ignore[call-arg]\u001b[0m\u001b[0;34m\u001b[0m\u001b[0;34m\u001b[0m\u001b[0m\n\u001b[0;32m--> 701\u001b[0;31m             \u001b[0mdata\u001b[0m \u001b[0;34m=\u001b[0m \u001b[0mself\u001b[0m\u001b[0;34m.\u001b[0m\u001b[0m_next_data\u001b[0m\u001b[0;34m(\u001b[0m\u001b[0;34m)\u001b[0m\u001b[0;34m\u001b[0m\u001b[0;34m\u001b[0m\u001b[0m\n\u001b[0m\u001b[1;32m    702\u001b[0m             \u001b[0mself\u001b[0m\u001b[0;34m.\u001b[0m\u001b[0m_num_yielded\u001b[0m \u001b[0;34m+=\u001b[0m \u001b[0;36m1\u001b[0m\u001b[0;34m\u001b[0m\u001b[0;34m\u001b[0m\u001b[0m\n\u001b[1;32m    703\u001b[0m             if (\n",
            "\u001b[0;32m/usr/local/lib/python3.10/dist-packages/torch/utils/data/dataloader.py\u001b[0m in \u001b[0;36m_next_data\u001b[0;34m(self)\u001b[0m\n\u001b[1;32m   1446\u001b[0m \u001b[0;34m\u001b[0m\u001b[0m\n\u001b[1;32m   1447\u001b[0m             \u001b[0;32massert\u001b[0m \u001b[0;32mnot\u001b[0m \u001b[0mself\u001b[0m\u001b[0;34m.\u001b[0m\u001b[0m_shutdown\u001b[0m \u001b[0;32mand\u001b[0m \u001b[0mself\u001b[0m\u001b[0;34m.\u001b[0m\u001b[0m_tasks_outstanding\u001b[0m \u001b[0;34m>\u001b[0m \u001b[0;36m0\u001b[0m\u001b[0;34m\u001b[0m\u001b[0;34m\u001b[0m\u001b[0m\n\u001b[0;32m-> 1448\u001b[0;31m             \u001b[0midx\u001b[0m\u001b[0;34m,\u001b[0m \u001b[0mdata\u001b[0m \u001b[0;34m=\u001b[0m \u001b[0mself\u001b[0m\u001b[0;34m.\u001b[0m\u001b[0m_get_data\u001b[0m\u001b[0;34m(\u001b[0m\u001b[0;34m)\u001b[0m\u001b[0;34m\u001b[0m\u001b[0;34m\u001b[0m\u001b[0m\n\u001b[0m\u001b[1;32m   1449\u001b[0m             \u001b[0mself\u001b[0m\u001b[0;34m.\u001b[0m\u001b[0m_tasks_outstanding\u001b[0m \u001b[0;34m-=\u001b[0m \u001b[0;36m1\u001b[0m\u001b[0;34m\u001b[0m\u001b[0;34m\u001b[0m\u001b[0m\n\u001b[1;32m   1450\u001b[0m             \u001b[0;32mif\u001b[0m \u001b[0mself\u001b[0m\u001b[0;34m.\u001b[0m\u001b[0m_dataset_kind\u001b[0m \u001b[0;34m==\u001b[0m \u001b[0m_DatasetKind\u001b[0m\u001b[0;34m.\u001b[0m\u001b[0mIterable\u001b[0m\u001b[0;34m:\u001b[0m\u001b[0;34m\u001b[0m\u001b[0;34m\u001b[0m\u001b[0m\n",
            "\u001b[0;32m/usr/local/lib/python3.10/dist-packages/torch/utils/data/dataloader.py\u001b[0m in \u001b[0;36m_get_data\u001b[0;34m(self)\u001b[0m\n\u001b[1;32m   1410\u001b[0m         \u001b[0;32melse\u001b[0m\u001b[0;34m:\u001b[0m\u001b[0;34m\u001b[0m\u001b[0;34m\u001b[0m\u001b[0m\n\u001b[1;32m   1411\u001b[0m             \u001b[0;32mwhile\u001b[0m \u001b[0;32mTrue\u001b[0m\u001b[0;34m:\u001b[0m\u001b[0;34m\u001b[0m\u001b[0;34m\u001b[0m\u001b[0m\n\u001b[0;32m-> 1412\u001b[0;31m                 \u001b[0msuccess\u001b[0m\u001b[0;34m,\u001b[0m \u001b[0mdata\u001b[0m \u001b[0;34m=\u001b[0m \u001b[0mself\u001b[0m\u001b[0;34m.\u001b[0m\u001b[0m_try_get_data\u001b[0m\u001b[0;34m(\u001b[0m\u001b[0;34m)\u001b[0m\u001b[0;34m\u001b[0m\u001b[0;34m\u001b[0m\u001b[0m\n\u001b[0m\u001b[1;32m   1413\u001b[0m                 \u001b[0;32mif\u001b[0m \u001b[0msuccess\u001b[0m\u001b[0;34m:\u001b[0m\u001b[0;34m\u001b[0m\u001b[0;34m\u001b[0m\u001b[0m\n\u001b[1;32m   1414\u001b[0m                     \u001b[0;32mreturn\u001b[0m \u001b[0mdata\u001b[0m\u001b[0;34m\u001b[0m\u001b[0;34m\u001b[0m\u001b[0m\n",
            "\u001b[0;32m/usr/local/lib/python3.10/dist-packages/torch/utils/data/dataloader.py\u001b[0m in \u001b[0;36m_try_get_data\u001b[0;34m(self, timeout)\u001b[0m\n\u001b[1;32m   1241\u001b[0m         \u001b[0;31m#   (bool: whether successfully get data, any: data if successful else None)\u001b[0m\u001b[0;34m\u001b[0m\u001b[0;34m\u001b[0m\u001b[0m\n\u001b[1;32m   1242\u001b[0m         \u001b[0;32mtry\u001b[0m\u001b[0;34m:\u001b[0m\u001b[0;34m\u001b[0m\u001b[0;34m\u001b[0m\u001b[0m\n\u001b[0;32m-> 1243\u001b[0;31m             \u001b[0mdata\u001b[0m \u001b[0;34m=\u001b[0m \u001b[0mself\u001b[0m\u001b[0;34m.\u001b[0m\u001b[0m_data_queue\u001b[0m\u001b[0;34m.\u001b[0m\u001b[0mget\u001b[0m\u001b[0;34m(\u001b[0m\u001b[0mtimeout\u001b[0m\u001b[0;34m=\u001b[0m\u001b[0mtimeout\u001b[0m\u001b[0;34m)\u001b[0m\u001b[0;34m\u001b[0m\u001b[0;34m\u001b[0m\u001b[0m\n\u001b[0m\u001b[1;32m   1244\u001b[0m             \u001b[0;32mreturn\u001b[0m \u001b[0;34m(\u001b[0m\u001b[0;32mTrue\u001b[0m\u001b[0;34m,\u001b[0m \u001b[0mdata\u001b[0m\u001b[0;34m)\u001b[0m\u001b[0;34m\u001b[0m\u001b[0;34m\u001b[0m\u001b[0m\n\u001b[1;32m   1245\u001b[0m         \u001b[0;32mexcept\u001b[0m \u001b[0mException\u001b[0m \u001b[0;32mas\u001b[0m \u001b[0me\u001b[0m\u001b[0;34m:\u001b[0m\u001b[0;34m\u001b[0m\u001b[0;34m\u001b[0m\u001b[0m\n",
            "\u001b[0;32m/usr/lib/python3.10/multiprocessing/queues.py\u001b[0m in \u001b[0;36mget\u001b[0;34m(self, block, timeout)\u001b[0m\n\u001b[1;32m    111\u001b[0m                 \u001b[0;32mif\u001b[0m \u001b[0mblock\u001b[0m\u001b[0;34m:\u001b[0m\u001b[0;34m\u001b[0m\u001b[0;34m\u001b[0m\u001b[0m\n\u001b[1;32m    112\u001b[0m                     \u001b[0mtimeout\u001b[0m \u001b[0;34m=\u001b[0m \u001b[0mdeadline\u001b[0m \u001b[0;34m-\u001b[0m \u001b[0mtime\u001b[0m\u001b[0;34m.\u001b[0m\u001b[0mmonotonic\u001b[0m\u001b[0;34m(\u001b[0m\u001b[0;34m)\u001b[0m\u001b[0;34m\u001b[0m\u001b[0;34m\u001b[0m\u001b[0m\n\u001b[0;32m--> 113\u001b[0;31m                     \u001b[0;32mif\u001b[0m \u001b[0;32mnot\u001b[0m \u001b[0mself\u001b[0m\u001b[0;34m.\u001b[0m\u001b[0m_poll\u001b[0m\u001b[0;34m(\u001b[0m\u001b[0mtimeout\u001b[0m\u001b[0;34m)\u001b[0m\u001b[0;34m:\u001b[0m\u001b[0;34m\u001b[0m\u001b[0;34m\u001b[0m\u001b[0m\n\u001b[0m\u001b[1;32m    114\u001b[0m                         \u001b[0;32mraise\u001b[0m \u001b[0mEmpty\u001b[0m\u001b[0;34m\u001b[0m\u001b[0;34m\u001b[0m\u001b[0m\n\u001b[1;32m    115\u001b[0m                 \u001b[0;32melif\u001b[0m \u001b[0;32mnot\u001b[0m \u001b[0mself\u001b[0m\u001b[0;34m.\u001b[0m\u001b[0m_poll\u001b[0m\u001b[0;34m(\u001b[0m\u001b[0;34m)\u001b[0m\u001b[0;34m:\u001b[0m\u001b[0;34m\u001b[0m\u001b[0;34m\u001b[0m\u001b[0m\n",
            "\u001b[0;32m/usr/lib/python3.10/multiprocessing/connection.py\u001b[0m in \u001b[0;36mpoll\u001b[0;34m(self, timeout)\u001b[0m\n\u001b[1;32m    255\u001b[0m         \u001b[0mself\u001b[0m\u001b[0;34m.\u001b[0m\u001b[0m_check_closed\u001b[0m\u001b[0;34m(\u001b[0m\u001b[0;34m)\u001b[0m\u001b[0;34m\u001b[0m\u001b[0;34m\u001b[0m\u001b[0m\n\u001b[1;32m    256\u001b[0m         \u001b[0mself\u001b[0m\u001b[0;34m.\u001b[0m\u001b[0m_check_readable\u001b[0m\u001b[0;34m(\u001b[0m\u001b[0;34m)\u001b[0m\u001b[0;34m\u001b[0m\u001b[0;34m\u001b[0m\u001b[0m\n\u001b[0;32m--> 257\u001b[0;31m         \u001b[0;32mreturn\u001b[0m \u001b[0mself\u001b[0m\u001b[0;34m.\u001b[0m\u001b[0m_poll\u001b[0m\u001b[0;34m(\u001b[0m\u001b[0mtimeout\u001b[0m\u001b[0;34m)\u001b[0m\u001b[0;34m\u001b[0m\u001b[0;34m\u001b[0m\u001b[0m\n\u001b[0m\u001b[1;32m    258\u001b[0m \u001b[0;34m\u001b[0m\u001b[0m\n\u001b[1;32m    259\u001b[0m     \u001b[0;32mdef\u001b[0m \u001b[0m__enter__\u001b[0m\u001b[0;34m(\u001b[0m\u001b[0mself\u001b[0m\u001b[0;34m)\u001b[0m\u001b[0;34m:\u001b[0m\u001b[0;34m\u001b[0m\u001b[0;34m\u001b[0m\u001b[0m\n",
            "\u001b[0;32m/usr/lib/python3.10/multiprocessing/connection.py\u001b[0m in \u001b[0;36m_poll\u001b[0;34m(self, timeout)\u001b[0m\n\u001b[1;32m    422\u001b[0m \u001b[0;34m\u001b[0m\u001b[0m\n\u001b[1;32m    423\u001b[0m     \u001b[0;32mdef\u001b[0m \u001b[0m_poll\u001b[0m\u001b[0;34m(\u001b[0m\u001b[0mself\u001b[0m\u001b[0;34m,\u001b[0m \u001b[0mtimeout\u001b[0m\u001b[0;34m)\u001b[0m\u001b[0;34m:\u001b[0m\u001b[0;34m\u001b[0m\u001b[0;34m\u001b[0m\u001b[0m\n\u001b[0;32m--> 424\u001b[0;31m         \u001b[0mr\u001b[0m \u001b[0;34m=\u001b[0m \u001b[0mwait\u001b[0m\u001b[0;34m(\u001b[0m\u001b[0;34m[\u001b[0m\u001b[0mself\u001b[0m\u001b[0;34m]\u001b[0m\u001b[0;34m,\u001b[0m \u001b[0mtimeout\u001b[0m\u001b[0;34m)\u001b[0m\u001b[0;34m\u001b[0m\u001b[0;34m\u001b[0m\u001b[0m\n\u001b[0m\u001b[1;32m    425\u001b[0m         \u001b[0;32mreturn\u001b[0m \u001b[0mbool\u001b[0m\u001b[0;34m(\u001b[0m\u001b[0mr\u001b[0m\u001b[0;34m)\u001b[0m\u001b[0;34m\u001b[0m\u001b[0;34m\u001b[0m\u001b[0m\n\u001b[1;32m    426\u001b[0m \u001b[0;34m\u001b[0m\u001b[0m\n",
            "\u001b[0;32m/usr/lib/python3.10/multiprocessing/connection.py\u001b[0m in \u001b[0;36mwait\u001b[0;34m(object_list, timeout)\u001b[0m\n\u001b[1;32m    929\u001b[0m \u001b[0;34m\u001b[0m\u001b[0m\n\u001b[1;32m    930\u001b[0m             \u001b[0;32mwhile\u001b[0m \u001b[0;32mTrue\u001b[0m\u001b[0;34m:\u001b[0m\u001b[0;34m\u001b[0m\u001b[0;34m\u001b[0m\u001b[0m\n\u001b[0;32m--> 931\u001b[0;31m                 \u001b[0mready\u001b[0m \u001b[0;34m=\u001b[0m \u001b[0mselector\u001b[0m\u001b[0;34m.\u001b[0m\u001b[0mselect\u001b[0m\u001b[0;34m(\u001b[0m\u001b[0mtimeout\u001b[0m\u001b[0;34m)\u001b[0m\u001b[0;34m\u001b[0m\u001b[0;34m\u001b[0m\u001b[0m\n\u001b[0m\u001b[1;32m    932\u001b[0m                 \u001b[0;32mif\u001b[0m \u001b[0mready\u001b[0m\u001b[0;34m:\u001b[0m\u001b[0;34m\u001b[0m\u001b[0;34m\u001b[0m\u001b[0m\n\u001b[1;32m    933\u001b[0m                     \u001b[0;32mreturn\u001b[0m \u001b[0;34m[\u001b[0m\u001b[0mkey\u001b[0m\u001b[0;34m.\u001b[0m\u001b[0mfileobj\u001b[0m \u001b[0;32mfor\u001b[0m \u001b[0;34m(\u001b[0m\u001b[0mkey\u001b[0m\u001b[0;34m,\u001b[0m \u001b[0mevents\u001b[0m\u001b[0;34m)\u001b[0m \u001b[0;32min\u001b[0m \u001b[0mready\u001b[0m\u001b[0;34m]\u001b[0m\u001b[0;34m\u001b[0m\u001b[0;34m\u001b[0m\u001b[0m\n",
            "\u001b[0;32m/usr/lib/python3.10/selectors.py\u001b[0m in \u001b[0;36mselect\u001b[0;34m(self, timeout)\u001b[0m\n\u001b[1;32m    414\u001b[0m         \u001b[0mready\u001b[0m \u001b[0;34m=\u001b[0m \u001b[0;34m[\u001b[0m\u001b[0;34m]\u001b[0m\u001b[0;34m\u001b[0m\u001b[0;34m\u001b[0m\u001b[0m\n\u001b[1;32m    415\u001b[0m         \u001b[0;32mtry\u001b[0m\u001b[0;34m:\u001b[0m\u001b[0;34m\u001b[0m\u001b[0;34m\u001b[0m\u001b[0m\n\u001b[0;32m--> 416\u001b[0;31m             \u001b[0mfd_event_list\u001b[0m \u001b[0;34m=\u001b[0m \u001b[0mself\u001b[0m\u001b[0;34m.\u001b[0m\u001b[0m_selector\u001b[0m\u001b[0;34m.\u001b[0m\u001b[0mpoll\u001b[0m\u001b[0;34m(\u001b[0m\u001b[0mtimeout\u001b[0m\u001b[0;34m)\u001b[0m\u001b[0;34m\u001b[0m\u001b[0;34m\u001b[0m\u001b[0m\n\u001b[0m\u001b[1;32m    417\u001b[0m         \u001b[0;32mexcept\u001b[0m \u001b[0mInterruptedError\u001b[0m\u001b[0;34m:\u001b[0m\u001b[0;34m\u001b[0m\u001b[0;34m\u001b[0m\u001b[0m\n\u001b[1;32m    418\u001b[0m             \u001b[0;32mreturn\u001b[0m \u001b[0mready\u001b[0m\u001b[0;34m\u001b[0m\u001b[0;34m\u001b[0m\u001b[0m\n",
            "\u001b[0;31mKeyboardInterrupt\u001b[0m: "
          ]
        }
      ]
    },
    {
      "cell_type": "code",
      "source": [
        "test(\n",
        "    model_name=\"vit_deit_fine_tuned_5\",\n",
        "    model_path=\"drive/MyDrive/experiment/best_vit_deit_fine_tuned_5.pth\",\n",
        "    model_type=\"deit_base_patch16_224\",\n",
        "    outfile=\"drive/MyDrive/test_results/vit_deit_fine_tuned.csv\",\n",
        "    data=\"drive/MyDrive/mva_competition\",\n",
        "    batch_size=32,\n",
        "    num_workers=4,\n",
        ")"
      ],
      "metadata": {
        "colab": {
          "base_uri": "https://localhost:8080/"
        },
        "id": "QYOTt_uSp176",
        "outputId": "1779a2b8-0a95-4607-dc3c-fdc39527e522"
      },
      "execution_count": null,
      "outputs": [
        {
          "output_type": "stream",
          "name": "stdout",
          "text": [
            "Using the Vision Transformer architecture.\n"
          ]
        },
        {
          "output_type": "stream",
          "name": "stderr",
          "text": [
            "/content/jarry_cv_mva_competition/model_factory.py:129: FutureWarning: You are using `torch.load` with `weights_only=False` (the current default value), which uses the default pickle module implicitly. It is possible to construct malicious pickle data which will execute arbitrary code during unpickling (See https://github.com/pytorch/pytorch/blob/main/SECURITY.md#untrusted-models for more details). In a future release, the default value for `weights_only` will be flipped to `True`. This limits the functions that could be executed during unpickling. Arbitrary objects will no longer be allowed to be loaded via this mode unless they are explicitly allowlisted by the user via `torch.serialization.add_safe_globals`. We recommend you start setting `weights_only=True` for any use case where you don't have full control of the loaded file. Please open an issue on GitHub for any issues related to this experimental feature.\n",
            "  state_dict = torch.load(self.model_path)\n"
          ]
        },
        {
          "output_type": "stream",
          "name": "stdout",
          "text": [
            "Succesfully loaded weights\n",
            "successfully parrallelized\n",
            "Using GPU\n",
            "Validation loss : 0.4995255916839159, Validation accuracy : 87.36000061035156 %\n"
          ]
        },
        {
          "output_type": "stream",
          "name": "stderr",
          "text": [
            "100%|██████████| 5455/5455 [03:58<00:00, 22.85it/s]"
          ]
        },
        {
          "output_type": "stream",
          "name": "stdout",
          "text": [
            "Succesfully wrote drive/MyDrive/test_results/vit_deit_fine_tuned.csv, you can upload this file to the kaggle competition website\n"
          ]
        },
        {
          "output_type": "stream",
          "name": "stderr",
          "text": [
            "\n"
          ]
        }
      ]
    },
    {
      "cell_type": "code",
      "execution_count": null,
      "metadata": {
        "colab": {
          "base_uri": "https://localhost:8080/",
          "height": 1000
        },
        "id": "S1B95QXNRc-F",
        "outputId": "a38adb5c-e5bc-4379-c72a-18989108a103"
      },
      "outputs": [
        {
          "output_type": "stream",
          "name": "stdout",
          "text": [
            "Using the Vision Transformer architecture.\n",
            "Succesfully loaded weights\n",
            "successfully parrallelized\n",
            "Using GPU\n",
            "Train Epoch: 1 [0/20000 (0%)]\tLoss: 0.349892\n",
            "Train Epoch: 1 [1280/20000 (6%)]\tLoss: 0.279157\n",
            "Train Epoch: 1 [2560/20000 (13%)]\tLoss: 0.318733\n",
            "Train Epoch: 1 [3840/20000 (19%)]\tLoss: 0.385225\n",
            "Train Epoch: 1 [5120/20000 (25%)]\tLoss: 0.412968\n",
            "Train Epoch: 1 [6400/20000 (32%)]\tLoss: 0.336906\n",
            "Train Epoch: 1 [7680/20000 (38%)]\tLoss: 0.440876\n",
            "Train Epoch: 1 [8960/20000 (45%)]\tLoss: 0.406757\n",
            "Train Epoch: 1 [10240/20000 (51%)]\tLoss: 0.328678\n",
            "Train Epoch: 1 [11520/20000 (57%)]\tLoss: 0.348300\n",
            "Train Epoch: 1 [12800/20000 (64%)]\tLoss: 0.341695\n",
            "Train Epoch: 1 [14080/20000 (70%)]\tLoss: 0.297979\n",
            "Train Epoch: 1 [15360/20000 (76%)]\tLoss: 0.202655\n",
            "Train Epoch: 1 [16640/20000 (83%)]\tLoss: 0.371507\n",
            "Train Epoch: 1 [17920/20000 (89%)]\tLoss: 0.487273\n",
            "Train Epoch: 1 [19200/20000 (96%)]\tLoss: 0.182857\n",
            "Epoch : 1, Training accuracy : 92.26000213623047 %\n",
            "Epoch : 1, Validation accuracy : 87.31999969482422 %\n",
            "Train Epoch: 2 [0/20000 (0%)]\tLoss: 0.225742\n",
            "Train Epoch: 2 [1280/20000 (6%)]\tLoss: 0.235406\n",
            "Train Epoch: 2 [2560/20000 (13%)]\tLoss: 0.372249\n",
            "Train Epoch: 2 [3840/20000 (19%)]\tLoss: 0.371479\n",
            "Train Epoch: 2 [5120/20000 (25%)]\tLoss: 0.261487\n",
            "Train Epoch: 2 [6400/20000 (32%)]\tLoss: 0.367689\n",
            "Train Epoch: 2 [7680/20000 (38%)]\tLoss: 0.392117\n",
            "Train Epoch: 2 [8960/20000 (45%)]\tLoss: 0.232225\n",
            "Train Epoch: 2 [10240/20000 (51%)]\tLoss: 0.227480\n",
            "Train Epoch: 2 [11520/20000 (57%)]\tLoss: 0.259979\n",
            "Train Epoch: 2 [12800/20000 (64%)]\tLoss: 0.318649\n",
            "Train Epoch: 2 [14080/20000 (70%)]\tLoss: 0.214259\n",
            "Train Epoch: 2 [15360/20000 (76%)]\tLoss: 0.257991\n",
            "Train Epoch: 2 [16640/20000 (83%)]\tLoss: 0.303602\n",
            "Train Epoch: 2 [17920/20000 (89%)]\tLoss: 0.232321\n",
            "Train Epoch: 2 [19200/20000 (96%)]\tLoss: 0.295382\n",
            "Epoch : 2, Training accuracy : 93.66000366210938 %\n",
            "Epoch : 2, Validation accuracy : 87.27999877929688 %\n",
            "Train Epoch: 3 [0/20000 (0%)]\tLoss: 0.174802\n",
            "Train Epoch: 3 [1280/20000 (6%)]\tLoss: 0.295745\n",
            "Train Epoch: 3 [2560/20000 (13%)]\tLoss: 0.179876\n",
            "Train Epoch: 3 [3840/20000 (19%)]\tLoss: 0.208094\n",
            "Train Epoch: 3 [5120/20000 (25%)]\tLoss: 0.230562\n",
            "Train Epoch: 3 [6400/20000 (32%)]\tLoss: 0.211109\n",
            "Train Epoch: 3 [7680/20000 (38%)]\tLoss: 0.319273\n",
            "Train Epoch: 3 [8960/20000 (45%)]\tLoss: 0.229508\n",
            "Train Epoch: 3 [10240/20000 (51%)]\tLoss: 0.360672\n",
            "Train Epoch: 3 [11520/20000 (57%)]\tLoss: 0.160686\n",
            "Train Epoch: 3 [12800/20000 (64%)]\tLoss: 0.225345\n",
            "Train Epoch: 3 [14080/20000 (70%)]\tLoss: 0.299613\n",
            "Train Epoch: 3 [15360/20000 (76%)]\tLoss: 0.177910\n",
            "Train Epoch: 3 [16640/20000 (83%)]\tLoss: 0.170001\n",
            "Train Epoch: 3 [17920/20000 (89%)]\tLoss: 0.239312\n",
            "Train Epoch: 3 [19200/20000 (96%)]\tLoss: 0.317466\n",
            "Epoch : 3, Training accuracy : 94.34500122070312 %\n",
            "Epoch : 3, Validation accuracy : 86.80000305175781 %\n",
            "Train Epoch: 4 [0/20000 (0%)]\tLoss: 0.208785\n",
            "Train Epoch: 4 [1280/20000 (6%)]\tLoss: 0.227379\n",
            "Train Epoch: 4 [2560/20000 (13%)]\tLoss: 0.306425\n",
            "Train Epoch: 4 [3840/20000 (19%)]\tLoss: 0.298938\n",
            "Train Epoch: 4 [5120/20000 (25%)]\tLoss: 0.266719\n",
            "Train Epoch: 4 [6400/20000 (32%)]\tLoss: 0.116812\n",
            "Train Epoch: 4 [7680/20000 (38%)]\tLoss: 0.316658\n",
            "Train Epoch: 4 [8960/20000 (45%)]\tLoss: 0.243799\n",
            "Train Epoch: 4 [10240/20000 (51%)]\tLoss: 0.186129\n",
            "Train Epoch: 4 [11520/20000 (57%)]\tLoss: 0.186372\n",
            "Train Epoch: 4 [12800/20000 (64%)]\tLoss: 0.245112\n",
            "Train Epoch: 4 [14080/20000 (70%)]\tLoss: 0.223614\n",
            "Train Epoch: 4 [15360/20000 (76%)]\tLoss: 0.175166\n",
            "Train Epoch: 4 [16640/20000 (83%)]\tLoss: 0.426445\n",
            "Train Epoch: 4 [17920/20000 (89%)]\tLoss: 0.124742\n",
            "Train Epoch: 4 [19200/20000 (96%)]\tLoss: 0.146988\n",
            "Epoch : 4, Training accuracy : 94.94000244140625 %\n",
            "Epoch : 4, Validation accuracy : 87.19999694824219 %\n",
            "Train Epoch: 5 [0/20000 (0%)]\tLoss: 0.265433\n",
            "Train Epoch: 5 [1280/20000 (6%)]\tLoss: 0.224420\n",
            "Train Epoch: 5 [2560/20000 (13%)]\tLoss: 0.227107\n",
            "Train Epoch: 5 [3840/20000 (19%)]\tLoss: 0.121801\n",
            "Train Epoch: 5 [5120/20000 (25%)]\tLoss: 0.242346\n",
            "Train Epoch: 5 [6400/20000 (32%)]\tLoss: 0.235672\n",
            "Train Epoch: 5 [7680/20000 (38%)]\tLoss: 0.111761\n",
            "Train Epoch: 5 [8960/20000 (45%)]\tLoss: 0.202976\n",
            "Train Epoch: 5 [10240/20000 (51%)]\tLoss: 0.132379\n",
            "Train Epoch: 5 [11520/20000 (57%)]\tLoss: 0.206308\n",
            "Train Epoch: 5 [12800/20000 (64%)]\tLoss: 0.144221\n",
            "Train Epoch: 5 [14080/20000 (70%)]\tLoss: 0.191698\n",
            "Train Epoch: 5 [15360/20000 (76%)]\tLoss: 0.179324\n",
            "Train Epoch: 5 [16640/20000 (83%)]\tLoss: 0.136126\n",
            "Train Epoch: 5 [17920/20000 (89%)]\tLoss: 0.181079\n",
            "Train Epoch: 5 [19200/20000 (96%)]\tLoss: 0.271026\n",
            "Epoch : 5, Training accuracy : 95.36000061035156 %\n",
            "Epoch : 5, Validation accuracy : 86.91999816894531 %\n",
            "Train Epoch: 6 [0/20000 (0%)]\tLoss: 0.140258\n",
            "Train Epoch: 6 [1280/20000 (6%)]\tLoss: 0.230426\n",
            "Train Epoch: 6 [2560/20000 (13%)]\tLoss: 0.267136\n",
            "Train Epoch: 6 [3840/20000 (19%)]\tLoss: 0.253802\n",
            "Train Epoch: 6 [5120/20000 (25%)]\tLoss: 0.211272\n",
            "Train Epoch: 6 [6400/20000 (32%)]\tLoss: 0.215912\n",
            "Train Epoch: 6 [7680/20000 (38%)]\tLoss: 0.186751\n",
            "Train Epoch: 6 [8960/20000 (45%)]\tLoss: 0.157166\n",
            "Train Epoch: 6 [10240/20000 (51%)]\tLoss: 0.142451\n",
            "Train Epoch: 6 [11520/20000 (57%)]\tLoss: 0.135946\n",
            "Train Epoch: 6 [12800/20000 (64%)]\tLoss: 0.247347\n",
            "Train Epoch: 6 [14080/20000 (70%)]\tLoss: 0.129683\n",
            "Train Epoch: 6 [15360/20000 (76%)]\tLoss: 0.335790\n",
            "Train Epoch: 6 [16640/20000 (83%)]\tLoss: 0.154886\n",
            "Train Epoch: 6 [17920/20000 (89%)]\tLoss: 0.361548\n",
            "Train Epoch: 6 [19200/20000 (96%)]\tLoss: 0.174060\n",
            "Epoch : 6, Training accuracy : 95.56500244140625 %\n",
            "Epoch : 6, Validation accuracy : 87.04000091552734 %\n",
            "Train Epoch: 7 [0/20000 (0%)]\tLoss: 0.159424\n",
            "Train Epoch: 7 [1280/20000 (6%)]\tLoss: 0.058453\n",
            "Train Epoch: 7 [2560/20000 (13%)]\tLoss: 0.107130\n",
            "Train Epoch: 7 [3840/20000 (19%)]\tLoss: 0.207144\n",
            "Train Epoch: 7 [5120/20000 (25%)]\tLoss: 0.190788\n",
            "Train Epoch: 7 [6400/20000 (32%)]\tLoss: 0.229051\n",
            "Train Epoch: 7 [7680/20000 (38%)]\tLoss: 0.188377\n",
            "Train Epoch: 7 [8960/20000 (45%)]\tLoss: 0.218080\n",
            "Train Epoch: 7 [10240/20000 (51%)]\tLoss: 0.116644\n",
            "Train Epoch: 7 [11520/20000 (57%)]\tLoss: 0.295059\n",
            "Train Epoch: 7 [12800/20000 (64%)]\tLoss: 0.139252\n",
            "Train Epoch: 7 [14080/20000 (70%)]\tLoss: 0.221232\n",
            "Train Epoch: 7 [15360/20000 (76%)]\tLoss: 0.148660\n",
            "Train Epoch: 7 [16640/20000 (83%)]\tLoss: 0.150457\n",
            "Train Epoch: 7 [17920/20000 (89%)]\tLoss: 0.127552\n",
            "Train Epoch: 7 [19200/20000 (96%)]\tLoss: 0.203227\n",
            "Epoch : 7, Training accuracy : 96.1050033569336 %\n",
            "Epoch : 7, Validation accuracy : 87.23999786376953 %\n",
            "Train Epoch: 8 [0/20000 (0%)]\tLoss: 0.173471\n",
            "Train Epoch: 8 [1280/20000 (6%)]\tLoss: 0.119111\n",
            "Train Epoch: 8 [2560/20000 (13%)]\tLoss: 0.116242\n",
            "Train Epoch: 8 [3840/20000 (19%)]\tLoss: 0.065595\n",
            "Train Epoch: 8 [5120/20000 (25%)]\tLoss: 0.074001\n",
            "Train Epoch: 8 [6400/20000 (32%)]\tLoss: 0.185881\n",
            "Train Epoch: 8 [7680/20000 (38%)]\tLoss: 0.081383\n",
            "Train Epoch: 8 [8960/20000 (45%)]\tLoss: 0.264297\n",
            "Train Epoch: 8 [10240/20000 (51%)]\tLoss: 0.229447\n",
            "Train Epoch: 8 [11520/20000 (57%)]\tLoss: 0.251061\n",
            "Train Epoch: 8 [12800/20000 (64%)]\tLoss: 0.237558\n",
            "Train Epoch: 8 [14080/20000 (70%)]\tLoss: 0.160862\n",
            "Train Epoch: 8 [15360/20000 (76%)]\tLoss: 0.153698\n",
            "Train Epoch: 8 [16640/20000 (83%)]\tLoss: 0.177811\n",
            "Train Epoch: 8 [17920/20000 (89%)]\tLoss: 0.128942\n",
            "Train Epoch: 8 [19200/20000 (96%)]\tLoss: 0.131663\n",
            "Epoch : 8, Training accuracy : 96.36000061035156 %\n",
            "Epoch : 8, Validation accuracy : 87.36000061035156 %\n"
          ]
        },
        {
          "output_type": "error",
          "ename": "KeyboardInterrupt",
          "evalue": "",
          "traceback": [
            "\u001b[0;31m---------------------------------------------------------------------------\u001b[0m",
            "\u001b[0;31mKeyboardInterrupt\u001b[0m                         Traceback (most recent call last)",
            "\u001b[0;32m<ipython-input-10-7df3932fd7a2>\u001b[0m in \u001b[0;36m<cell line: 1>\u001b[0;34m()\u001b[0m\n\u001b[0;32m----> 1\u001b[0;31m main(data_folder=\"drive/MyDrive/mva_competition\",\n\u001b[0m\u001b[1;32m      2\u001b[0m          \u001b[0mexperiment_folder\u001b[0m\u001b[0;34m=\u001b[0m\u001b[0;34m\"drive/MyDrive/experiment\"\u001b[0m\u001b[0;34m,\u001b[0m\u001b[0;34m\u001b[0m\u001b[0;34m\u001b[0m\u001b[0m\n\u001b[1;32m      3\u001b[0m          \u001b[0mmodel_name\u001b[0m\u001b[0;34m=\u001b[0m\u001b[0;34m\"vit_deit_fine_tuned_5\"\u001b[0m\u001b[0;34m,\u001b[0m\u001b[0;34m\u001b[0m\u001b[0;34m\u001b[0m\u001b[0m\n\u001b[1;32m      4\u001b[0m          \u001b[0mmodel_type\u001b[0m\u001b[0;34m=\u001b[0m\u001b[0;34m\"deit_base_patch16_224\"\u001b[0m\u001b[0;34m,\u001b[0m\u001b[0;34m\u001b[0m\u001b[0;34m\u001b[0m\u001b[0m\n\u001b[1;32m      5\u001b[0m          \u001b[0mmodel_path\u001b[0m\u001b[0;34m=\u001b[0m\u001b[0;34m\"drive/MyDrive/experiment/best_vit_deit_fine_tuned_5.pth\"\u001b[0m\u001b[0;34m,\u001b[0m\u001b[0;34m\u001b[0m\u001b[0;34m\u001b[0m\u001b[0m\n",
            "\u001b[0;32m/content/jarry_cv_mva_competition/main.py\u001b[0m in \u001b[0;36mmain\u001b[0;34m(data_folder, experiment_folder, model_name, model_path, model_type, batch_size, num_workers, momentum, epochs, seed, lr, saving_frequency, log_interval, fine_tune, optimizer, hidden_layers, tuning_layers)\u001b[0m\n\u001b[1;32m    140\u001b[0m     \u001b[0;32mfor\u001b[0m \u001b[0mepoch\u001b[0m \u001b[0;32min\u001b[0m \u001b[0mrange\u001b[0m\u001b[0;34m(\u001b[0m\u001b[0;36m1\u001b[0m\u001b[0;34m,\u001b[0m \u001b[0mepochs\u001b[0m \u001b[0;34m+\u001b[0m \u001b[0;36m1\u001b[0m\u001b[0;34m)\u001b[0m\u001b[0;34m:\u001b[0m\u001b[0;34m\u001b[0m\u001b[0;34m\u001b[0m\u001b[0m\n\u001b[1;32m    141\u001b[0m         \u001b[0;31m# Training loop\u001b[0m\u001b[0;34m\u001b[0m\u001b[0;34m\u001b[0m\u001b[0m\n\u001b[0;32m--> 142\u001b[0;31m         \u001b[0mtrain_loss\u001b[0m\u001b[0;34m,\u001b[0m \u001b[0mtrain_accuracy\u001b[0m \u001b[0;34m=\u001b[0m \u001b[0mtrain\u001b[0m\u001b[0;34m(\u001b[0m\u001b[0mmodel\u001b[0m\u001b[0;34m,\u001b[0m \u001b[0moptimizer\u001b[0m\u001b[0;34m,\u001b[0m \u001b[0mtrain_loader\u001b[0m\u001b[0;34m,\u001b[0m \u001b[0muse_cuda\u001b[0m\u001b[0;34m,\u001b[0m \u001b[0mepoch\u001b[0m\u001b[0;34m,\u001b[0m \u001b[0mlog_interval\u001b[0m\u001b[0;34m)\u001b[0m\u001b[0;34m\u001b[0m\u001b[0;34m\u001b[0m\u001b[0m\n\u001b[0m\u001b[1;32m    143\u001b[0m         \u001b[0mtrain_losses\u001b[0m\u001b[0;34m.\u001b[0m\u001b[0mappend\u001b[0m\u001b[0;34m(\u001b[0m\u001b[0mtrain_loss\u001b[0m\u001b[0;34m)\u001b[0m\u001b[0;34m\u001b[0m\u001b[0;34m\u001b[0m\u001b[0m\n\u001b[1;32m    144\u001b[0m         \u001b[0mtrain_accuracies\u001b[0m\u001b[0;34m.\u001b[0m\u001b[0mappend\u001b[0m\u001b[0;34m(\u001b[0m\u001b[0mtrain_accuracy\u001b[0m\u001b[0;34m)\u001b[0m\u001b[0;34m\u001b[0m\u001b[0;34m\u001b[0m\u001b[0m\n",
            "\u001b[0;32m/content/jarry_cv_mva_competition/main.py\u001b[0m in \u001b[0;36mtrain\u001b[0;34m(model, optimizer, train_loader, use_cuda, epoch, log_interval)\u001b[0m\n\u001b[1;32m     21\u001b[0m     \u001b[0mcorrect\u001b[0m \u001b[0;34m=\u001b[0m \u001b[0;36m0\u001b[0m\u001b[0;34m\u001b[0m\u001b[0;34m\u001b[0m\u001b[0m\n\u001b[1;32m     22\u001b[0m     \u001b[0mtotal_loss\u001b[0m \u001b[0;34m=\u001b[0m \u001b[0;36m0\u001b[0m\u001b[0;34m\u001b[0m\u001b[0;34m\u001b[0m\u001b[0m\n\u001b[0;32m---> 23\u001b[0;31m     \u001b[0;32mfor\u001b[0m \u001b[0mbatch_idx\u001b[0m\u001b[0;34m,\u001b[0m \u001b[0;34m(\u001b[0m\u001b[0mdata\u001b[0m\u001b[0;34m,\u001b[0m \u001b[0mtarget\u001b[0m\u001b[0;34m)\u001b[0m \u001b[0;32min\u001b[0m \u001b[0menumerate\u001b[0m\u001b[0;34m(\u001b[0m\u001b[0mtrain_loader\u001b[0m\u001b[0;34m)\u001b[0m\u001b[0;34m:\u001b[0m\u001b[0;34m\u001b[0m\u001b[0;34m\u001b[0m\u001b[0m\n\u001b[0m\u001b[1;32m     24\u001b[0m         \u001b[0;32mif\u001b[0m \u001b[0muse_cuda\u001b[0m\u001b[0;34m:\u001b[0m\u001b[0;34m\u001b[0m\u001b[0;34m\u001b[0m\u001b[0m\n\u001b[1;32m     25\u001b[0m             \u001b[0mdata\u001b[0m\u001b[0;34m,\u001b[0m \u001b[0mtarget\u001b[0m \u001b[0;34m=\u001b[0m \u001b[0mdata\u001b[0m\u001b[0;34m.\u001b[0m\u001b[0mcuda\u001b[0m\u001b[0;34m(\u001b[0m\u001b[0;34m)\u001b[0m\u001b[0;34m,\u001b[0m \u001b[0mtarget\u001b[0m\u001b[0;34m.\u001b[0m\u001b[0mcuda\u001b[0m\u001b[0;34m(\u001b[0m\u001b[0;34m)\u001b[0m\u001b[0;34m\u001b[0m\u001b[0;34m\u001b[0m\u001b[0m\n",
            "\u001b[0;32m/usr/local/lib/python3.10/dist-packages/torch/utils/data/dataloader.py\u001b[0m in \u001b[0;36m__next__\u001b[0;34m(self)\u001b[0m\n\u001b[1;32m    699\u001b[0m                 \u001b[0;31m# TODO(https://github.com/pytorch/pytorch/issues/76750)\u001b[0m\u001b[0;34m\u001b[0m\u001b[0;34m\u001b[0m\u001b[0m\n\u001b[1;32m    700\u001b[0m                 \u001b[0mself\u001b[0m\u001b[0;34m.\u001b[0m\u001b[0m_reset\u001b[0m\u001b[0;34m(\u001b[0m\u001b[0;34m)\u001b[0m  \u001b[0;31m# type: ignore[call-arg]\u001b[0m\u001b[0;34m\u001b[0m\u001b[0;34m\u001b[0m\u001b[0m\n\u001b[0;32m--> 701\u001b[0;31m             \u001b[0mdata\u001b[0m \u001b[0;34m=\u001b[0m \u001b[0mself\u001b[0m\u001b[0;34m.\u001b[0m\u001b[0m_next_data\u001b[0m\u001b[0;34m(\u001b[0m\u001b[0;34m)\u001b[0m\u001b[0;34m\u001b[0m\u001b[0;34m\u001b[0m\u001b[0m\n\u001b[0m\u001b[1;32m    702\u001b[0m             \u001b[0mself\u001b[0m\u001b[0;34m.\u001b[0m\u001b[0m_num_yielded\u001b[0m \u001b[0;34m+=\u001b[0m \u001b[0;36m1\u001b[0m\u001b[0;34m\u001b[0m\u001b[0;34m\u001b[0m\u001b[0m\n\u001b[1;32m    703\u001b[0m             if (\n",
            "\u001b[0;32m/usr/local/lib/python3.10/dist-packages/torch/utils/data/dataloader.py\u001b[0m in \u001b[0;36m_next_data\u001b[0;34m(self)\u001b[0m\n\u001b[1;32m   1446\u001b[0m \u001b[0;34m\u001b[0m\u001b[0m\n\u001b[1;32m   1447\u001b[0m             \u001b[0;32massert\u001b[0m \u001b[0;32mnot\u001b[0m \u001b[0mself\u001b[0m\u001b[0;34m.\u001b[0m\u001b[0m_shutdown\u001b[0m \u001b[0;32mand\u001b[0m \u001b[0mself\u001b[0m\u001b[0;34m.\u001b[0m\u001b[0m_tasks_outstanding\u001b[0m \u001b[0;34m>\u001b[0m \u001b[0;36m0\u001b[0m\u001b[0;34m\u001b[0m\u001b[0;34m\u001b[0m\u001b[0m\n\u001b[0;32m-> 1448\u001b[0;31m             \u001b[0midx\u001b[0m\u001b[0;34m,\u001b[0m \u001b[0mdata\u001b[0m \u001b[0;34m=\u001b[0m \u001b[0mself\u001b[0m\u001b[0;34m.\u001b[0m\u001b[0m_get_data\u001b[0m\u001b[0;34m(\u001b[0m\u001b[0;34m)\u001b[0m\u001b[0;34m\u001b[0m\u001b[0;34m\u001b[0m\u001b[0m\n\u001b[0m\u001b[1;32m   1449\u001b[0m             \u001b[0mself\u001b[0m\u001b[0;34m.\u001b[0m\u001b[0m_tasks_outstanding\u001b[0m \u001b[0;34m-=\u001b[0m \u001b[0;36m1\u001b[0m\u001b[0;34m\u001b[0m\u001b[0;34m\u001b[0m\u001b[0m\n\u001b[1;32m   1450\u001b[0m             \u001b[0;32mif\u001b[0m \u001b[0mself\u001b[0m\u001b[0;34m.\u001b[0m\u001b[0m_dataset_kind\u001b[0m \u001b[0;34m==\u001b[0m \u001b[0m_DatasetKind\u001b[0m\u001b[0;34m.\u001b[0m\u001b[0mIterable\u001b[0m\u001b[0;34m:\u001b[0m\u001b[0;34m\u001b[0m\u001b[0;34m\u001b[0m\u001b[0m\n",
            "\u001b[0;32m/usr/local/lib/python3.10/dist-packages/torch/utils/data/dataloader.py\u001b[0m in \u001b[0;36m_get_data\u001b[0;34m(self)\u001b[0m\n\u001b[1;32m   1410\u001b[0m         \u001b[0;32melse\u001b[0m\u001b[0;34m:\u001b[0m\u001b[0;34m\u001b[0m\u001b[0;34m\u001b[0m\u001b[0m\n\u001b[1;32m   1411\u001b[0m             \u001b[0;32mwhile\u001b[0m \u001b[0;32mTrue\u001b[0m\u001b[0;34m:\u001b[0m\u001b[0;34m\u001b[0m\u001b[0;34m\u001b[0m\u001b[0m\n\u001b[0;32m-> 1412\u001b[0;31m                 \u001b[0msuccess\u001b[0m\u001b[0;34m,\u001b[0m \u001b[0mdata\u001b[0m \u001b[0;34m=\u001b[0m \u001b[0mself\u001b[0m\u001b[0;34m.\u001b[0m\u001b[0m_try_get_data\u001b[0m\u001b[0;34m(\u001b[0m\u001b[0;34m)\u001b[0m\u001b[0;34m\u001b[0m\u001b[0;34m\u001b[0m\u001b[0m\n\u001b[0m\u001b[1;32m   1413\u001b[0m                 \u001b[0;32mif\u001b[0m \u001b[0msuccess\u001b[0m\u001b[0;34m:\u001b[0m\u001b[0;34m\u001b[0m\u001b[0;34m\u001b[0m\u001b[0m\n\u001b[1;32m   1414\u001b[0m                     \u001b[0;32mreturn\u001b[0m \u001b[0mdata\u001b[0m\u001b[0;34m\u001b[0m\u001b[0;34m\u001b[0m\u001b[0m\n",
            "\u001b[0;32m/usr/local/lib/python3.10/dist-packages/torch/utils/data/dataloader.py\u001b[0m in \u001b[0;36m_try_get_data\u001b[0;34m(self, timeout)\u001b[0m\n\u001b[1;32m   1241\u001b[0m         \u001b[0;31m#   (bool: whether successfully get data, any: data if successful else None)\u001b[0m\u001b[0;34m\u001b[0m\u001b[0;34m\u001b[0m\u001b[0m\n\u001b[1;32m   1242\u001b[0m         \u001b[0;32mtry\u001b[0m\u001b[0;34m:\u001b[0m\u001b[0;34m\u001b[0m\u001b[0;34m\u001b[0m\u001b[0m\n\u001b[0;32m-> 1243\u001b[0;31m             \u001b[0mdata\u001b[0m \u001b[0;34m=\u001b[0m \u001b[0mself\u001b[0m\u001b[0;34m.\u001b[0m\u001b[0m_data_queue\u001b[0m\u001b[0;34m.\u001b[0m\u001b[0mget\u001b[0m\u001b[0;34m(\u001b[0m\u001b[0mtimeout\u001b[0m\u001b[0;34m=\u001b[0m\u001b[0mtimeout\u001b[0m\u001b[0;34m)\u001b[0m\u001b[0;34m\u001b[0m\u001b[0;34m\u001b[0m\u001b[0m\n\u001b[0m\u001b[1;32m   1244\u001b[0m             \u001b[0;32mreturn\u001b[0m \u001b[0;34m(\u001b[0m\u001b[0;32mTrue\u001b[0m\u001b[0;34m,\u001b[0m \u001b[0mdata\u001b[0m\u001b[0;34m)\u001b[0m\u001b[0;34m\u001b[0m\u001b[0;34m\u001b[0m\u001b[0m\n\u001b[1;32m   1245\u001b[0m         \u001b[0;32mexcept\u001b[0m \u001b[0mException\u001b[0m \u001b[0;32mas\u001b[0m \u001b[0me\u001b[0m\u001b[0;34m:\u001b[0m\u001b[0;34m\u001b[0m\u001b[0;34m\u001b[0m\u001b[0m\n",
            "\u001b[0;32m/usr/lib/python3.10/multiprocessing/queues.py\u001b[0m in \u001b[0;36mget\u001b[0;34m(self, block, timeout)\u001b[0m\n\u001b[1;32m    111\u001b[0m                 \u001b[0;32mif\u001b[0m \u001b[0mblock\u001b[0m\u001b[0;34m:\u001b[0m\u001b[0;34m\u001b[0m\u001b[0;34m\u001b[0m\u001b[0m\n\u001b[1;32m    112\u001b[0m                     \u001b[0mtimeout\u001b[0m \u001b[0;34m=\u001b[0m \u001b[0mdeadline\u001b[0m \u001b[0;34m-\u001b[0m \u001b[0mtime\u001b[0m\u001b[0;34m.\u001b[0m\u001b[0mmonotonic\u001b[0m\u001b[0;34m(\u001b[0m\u001b[0;34m)\u001b[0m\u001b[0;34m\u001b[0m\u001b[0;34m\u001b[0m\u001b[0m\n\u001b[0;32m--> 113\u001b[0;31m                     \u001b[0;32mif\u001b[0m \u001b[0;32mnot\u001b[0m \u001b[0mself\u001b[0m\u001b[0;34m.\u001b[0m\u001b[0m_poll\u001b[0m\u001b[0;34m(\u001b[0m\u001b[0mtimeout\u001b[0m\u001b[0;34m)\u001b[0m\u001b[0;34m:\u001b[0m\u001b[0;34m\u001b[0m\u001b[0;34m\u001b[0m\u001b[0m\n\u001b[0m\u001b[1;32m    114\u001b[0m                         \u001b[0;32mraise\u001b[0m \u001b[0mEmpty\u001b[0m\u001b[0;34m\u001b[0m\u001b[0;34m\u001b[0m\u001b[0m\n\u001b[1;32m    115\u001b[0m                 \u001b[0;32melif\u001b[0m \u001b[0;32mnot\u001b[0m \u001b[0mself\u001b[0m\u001b[0;34m.\u001b[0m\u001b[0m_poll\u001b[0m\u001b[0;34m(\u001b[0m\u001b[0;34m)\u001b[0m\u001b[0;34m:\u001b[0m\u001b[0;34m\u001b[0m\u001b[0;34m\u001b[0m\u001b[0m\n",
            "\u001b[0;32m/usr/lib/python3.10/multiprocessing/connection.py\u001b[0m in \u001b[0;36mpoll\u001b[0;34m(self, timeout)\u001b[0m\n\u001b[1;32m    255\u001b[0m         \u001b[0mself\u001b[0m\u001b[0;34m.\u001b[0m\u001b[0m_check_closed\u001b[0m\u001b[0;34m(\u001b[0m\u001b[0;34m)\u001b[0m\u001b[0;34m\u001b[0m\u001b[0;34m\u001b[0m\u001b[0m\n\u001b[1;32m    256\u001b[0m         \u001b[0mself\u001b[0m\u001b[0;34m.\u001b[0m\u001b[0m_check_readable\u001b[0m\u001b[0;34m(\u001b[0m\u001b[0;34m)\u001b[0m\u001b[0;34m\u001b[0m\u001b[0;34m\u001b[0m\u001b[0m\n\u001b[0;32m--> 257\u001b[0;31m         \u001b[0;32mreturn\u001b[0m \u001b[0mself\u001b[0m\u001b[0;34m.\u001b[0m\u001b[0m_poll\u001b[0m\u001b[0;34m(\u001b[0m\u001b[0mtimeout\u001b[0m\u001b[0;34m)\u001b[0m\u001b[0;34m\u001b[0m\u001b[0;34m\u001b[0m\u001b[0m\n\u001b[0m\u001b[1;32m    258\u001b[0m \u001b[0;34m\u001b[0m\u001b[0m\n\u001b[1;32m    259\u001b[0m     \u001b[0;32mdef\u001b[0m \u001b[0m__enter__\u001b[0m\u001b[0;34m(\u001b[0m\u001b[0mself\u001b[0m\u001b[0;34m)\u001b[0m\u001b[0;34m:\u001b[0m\u001b[0;34m\u001b[0m\u001b[0;34m\u001b[0m\u001b[0m\n",
            "\u001b[0;32m/usr/lib/python3.10/multiprocessing/connection.py\u001b[0m in \u001b[0;36m_poll\u001b[0;34m(self, timeout)\u001b[0m\n\u001b[1;32m    422\u001b[0m \u001b[0;34m\u001b[0m\u001b[0m\n\u001b[1;32m    423\u001b[0m     \u001b[0;32mdef\u001b[0m \u001b[0m_poll\u001b[0m\u001b[0;34m(\u001b[0m\u001b[0mself\u001b[0m\u001b[0;34m,\u001b[0m \u001b[0mtimeout\u001b[0m\u001b[0;34m)\u001b[0m\u001b[0;34m:\u001b[0m\u001b[0;34m\u001b[0m\u001b[0;34m\u001b[0m\u001b[0m\n\u001b[0;32m--> 424\u001b[0;31m         \u001b[0mr\u001b[0m \u001b[0;34m=\u001b[0m \u001b[0mwait\u001b[0m\u001b[0;34m(\u001b[0m\u001b[0;34m[\u001b[0m\u001b[0mself\u001b[0m\u001b[0;34m]\u001b[0m\u001b[0;34m,\u001b[0m \u001b[0mtimeout\u001b[0m\u001b[0;34m)\u001b[0m\u001b[0;34m\u001b[0m\u001b[0;34m\u001b[0m\u001b[0m\n\u001b[0m\u001b[1;32m    425\u001b[0m         \u001b[0;32mreturn\u001b[0m \u001b[0mbool\u001b[0m\u001b[0;34m(\u001b[0m\u001b[0mr\u001b[0m\u001b[0;34m)\u001b[0m\u001b[0;34m\u001b[0m\u001b[0;34m\u001b[0m\u001b[0m\n\u001b[1;32m    426\u001b[0m \u001b[0;34m\u001b[0m\u001b[0m\n",
            "\u001b[0;32m/usr/lib/python3.10/multiprocessing/connection.py\u001b[0m in \u001b[0;36mwait\u001b[0;34m(object_list, timeout)\u001b[0m\n\u001b[1;32m    929\u001b[0m \u001b[0;34m\u001b[0m\u001b[0m\n\u001b[1;32m    930\u001b[0m             \u001b[0;32mwhile\u001b[0m \u001b[0;32mTrue\u001b[0m\u001b[0;34m:\u001b[0m\u001b[0;34m\u001b[0m\u001b[0;34m\u001b[0m\u001b[0m\n\u001b[0;32m--> 931\u001b[0;31m                 \u001b[0mready\u001b[0m \u001b[0;34m=\u001b[0m \u001b[0mselector\u001b[0m\u001b[0;34m.\u001b[0m\u001b[0mselect\u001b[0m\u001b[0;34m(\u001b[0m\u001b[0mtimeout\u001b[0m\u001b[0;34m)\u001b[0m\u001b[0;34m\u001b[0m\u001b[0;34m\u001b[0m\u001b[0m\n\u001b[0m\u001b[1;32m    932\u001b[0m                 \u001b[0;32mif\u001b[0m \u001b[0mready\u001b[0m\u001b[0;34m:\u001b[0m\u001b[0;34m\u001b[0m\u001b[0;34m\u001b[0m\u001b[0m\n\u001b[1;32m    933\u001b[0m                     \u001b[0;32mreturn\u001b[0m \u001b[0;34m[\u001b[0m\u001b[0mkey\u001b[0m\u001b[0;34m.\u001b[0m\u001b[0mfileobj\u001b[0m \u001b[0;32mfor\u001b[0m \u001b[0;34m(\u001b[0m\u001b[0mkey\u001b[0m\u001b[0;34m,\u001b[0m \u001b[0mevents\u001b[0m\u001b[0;34m)\u001b[0m \u001b[0;32min\u001b[0m \u001b[0mready\u001b[0m\u001b[0;34m]\u001b[0m\u001b[0;34m\u001b[0m\u001b[0;34m\u001b[0m\u001b[0m\n",
            "\u001b[0;32m/usr/lib/python3.10/selectors.py\u001b[0m in \u001b[0;36mselect\u001b[0;34m(self, timeout)\u001b[0m\n\u001b[1;32m    414\u001b[0m         \u001b[0mready\u001b[0m \u001b[0;34m=\u001b[0m \u001b[0;34m[\u001b[0m\u001b[0;34m]\u001b[0m\u001b[0;34m\u001b[0m\u001b[0;34m\u001b[0m\u001b[0m\n\u001b[1;32m    415\u001b[0m         \u001b[0;32mtry\u001b[0m\u001b[0;34m:\u001b[0m\u001b[0;34m\u001b[0m\u001b[0;34m\u001b[0m\u001b[0m\n\u001b[0;32m--> 416\u001b[0;31m             \u001b[0mfd_event_list\u001b[0m \u001b[0;34m=\u001b[0m \u001b[0mself\u001b[0m\u001b[0;34m.\u001b[0m\u001b[0m_selector\u001b[0m\u001b[0;34m.\u001b[0m\u001b[0mpoll\u001b[0m\u001b[0;34m(\u001b[0m\u001b[0mtimeout\u001b[0m\u001b[0;34m)\u001b[0m\u001b[0;34m\u001b[0m\u001b[0;34m\u001b[0m\u001b[0m\n\u001b[0m\u001b[1;32m    417\u001b[0m         \u001b[0;32mexcept\u001b[0m \u001b[0mInterruptedError\u001b[0m\u001b[0;34m:\u001b[0m\u001b[0;34m\u001b[0m\u001b[0;34m\u001b[0m\u001b[0m\n\u001b[1;32m    418\u001b[0m             \u001b[0;32mreturn\u001b[0m \u001b[0mready\u001b[0m\u001b[0;34m\u001b[0m\u001b[0;34m\u001b[0m\u001b[0m\n",
            "\u001b[0;31mKeyboardInterrupt\u001b[0m: "
          ]
        }
      ],
      "source": [
        "main(data_folder=\"drive/MyDrive/mva_competition\",\n",
        "         experiment_folder=\"drive/MyDrive/experiment\",\n",
        "         model_name=\"vit_deit_fine_tuned_5\",\n",
        "         model_type=\"deit_base_patch16_224\",\n",
        "         model_path=\"drive/MyDrive/experiment/best_vit_deit_fine_tuned_5.pth\",\n",
        "         batch_size=128,\n",
        "         num_workers=4,\n",
        "         momentum=0.5,\n",
        "         epochs=100,\n",
        "         seed=42,\n",
        "         hidden_layers=4,\n",
        "         lr=2e-5,\n",
        "         saving_frequency=5,\n",
        "         log_interval=10,\n",
        "         tuning_layers=5,\n",
        "         fine_tune=True,\n",
        "         optimizer=\"AdamW\",\n",
        "     )"
      ]
    },
    {
      "cell_type": "code",
      "execution_count": null,
      "metadata": {
        "colab": {
          "base_uri": "https://localhost:8080/",
          "height": 879
        },
        "id": "l0AlZZSMtp46",
        "outputId": "1ea9d61c-8ca0-40f9-d20a-c8b98c62e9d5"
      },
      "outputs": [
        {
          "name": "stdout",
          "output_type": "stream",
          "text": [
            "Using the Vision Transformer architecture.\n"
          ]
        },
        {
          "name": "stderr",
          "output_type": "stream",
          "text": [
            "/usr/local/lib/python3.10/dist-packages/timm/models/_factory.py:117: UserWarning: Mapping deprecated model name vit_base_patch16_224_miil_in21k to current vit_base_patch16_224_miil.in21k.\n",
            "  model = create_fn(\n",
            "/content/jarry_cv_mva_competition/model_factory.py:129: FutureWarning: You are using `torch.load` with `weights_only=False` (the current default value), which uses the default pickle module implicitly. It is possible to construct malicious pickle data which will execute arbitrary code during unpickling (See https://github.com/pytorch/pytorch/blob/main/SECURITY.md#untrusted-models for more details). In a future release, the default value for `weights_only` will be flipped to `True`. This limits the functions that could be executed during unpickling. Arbitrary objects will no longer be allowed to be loaded via this mode unless they are explicitly allowlisted by the user via `torch.serialization.add_safe_globals`. We recommend you start setting `weights_only=True` for any use case where you don't have full control of the loaded file. Please open an issue on GitHub for any issues related to this experimental feature.\n",
            "  state_dict = torch.load(self.model_path)\n"
          ]
        },
        {
          "name": "stdout",
          "output_type": "stream",
          "text": [
            "Succesfully loaded weights\n",
            "successfully parrallelized\n",
            "Using GPU\n",
            "Train Epoch: 1 [0/20000 (0%)]\tLoss: 0.257509\n",
            "Train Epoch: 1 [1280/20000 (6%)]\tLoss: 0.451580\n",
            "Train Epoch: 1 [2560/20000 (13%)]\tLoss: 0.360622\n",
            "Train Epoch: 1 [3840/20000 (19%)]\tLoss: 0.478299\n",
            "Train Epoch: 1 [5120/20000 (25%)]\tLoss: 0.373041\n",
            "Train Epoch: 1 [6400/20000 (32%)]\tLoss: 0.222742\n",
            "Train Epoch: 1 [7680/20000 (38%)]\tLoss: 0.210266\n",
            "Train Epoch: 1 [8960/20000 (45%)]\tLoss: 0.419172\n",
            "Train Epoch: 1 [10240/20000 (51%)]\tLoss: 0.300996\n",
            "Train Epoch: 1 [11520/20000 (57%)]\tLoss: 0.342128\n",
            "Train Epoch: 1 [12800/20000 (64%)]\tLoss: 0.363454\n",
            "Train Epoch: 1 [14080/20000 (70%)]\tLoss: 0.254066\n",
            "Train Epoch: 1 [15360/20000 (76%)]\tLoss: 0.261533\n",
            "Train Epoch: 1 [16640/20000 (83%)]\tLoss: 0.542727\n",
            "Train Epoch: 1 [17920/20000 (89%)]\tLoss: 0.283685\n",
            "Train Epoch: 1 [19200/20000 (96%)]\tLoss: 0.241485\n",
            "Epoch : 1, Training accuracy : 92.86000061035156 %\n",
            "Epoch : 1, Validation accuracy : 86.5999984741211 %\n",
            "Train Epoch: 2 [0/20000 (0%)]\tLoss: 0.313177\n"
          ]
        },
        {
          "ename": "KeyboardInterrupt",
          "evalue": "",
          "output_type": "error",
          "traceback": [
            "\u001b[0;31m---------------------------------------------------------------------------\u001b[0m",
            "\u001b[0;31mKeyboardInterrupt\u001b[0m                         Traceback (most recent call last)",
            "\u001b[0;32m<ipython-input-8-6e796c8c1b4f>\u001b[0m in \u001b[0;36m<cell line: 1>\u001b[0;34m()\u001b[0m\n\u001b[0;32m----> 1\u001b[0;31m main(data_folder=\"drive/MyDrive/mva_competition\",\n\u001b[0m\u001b[1;32m      2\u001b[0m          \u001b[0mexperiment_folder\u001b[0m\u001b[0;34m=\u001b[0m\u001b[0;34m\"drive/MyDrive/experiment\"\u001b[0m\u001b[0;34m,\u001b[0m\u001b[0;34m\u001b[0m\u001b[0;34m\u001b[0m\u001b[0m\n\u001b[1;32m      3\u001b[0m          \u001b[0mmodel_name\u001b[0m\u001b[0;34m=\u001b[0m\u001b[0;34m\"vit_patch16_miil_fine_tuned_5\"\u001b[0m\u001b[0;34m,\u001b[0m\u001b[0;34m\u001b[0m\u001b[0;34m\u001b[0m\u001b[0m\n\u001b[1;32m      4\u001b[0m          \u001b[0mmodel_type\u001b[0m\u001b[0;34m=\u001b[0m\u001b[0;34m\"vit_base_patch16_224_miil_in21k\"\u001b[0m\u001b[0;34m,\u001b[0m\u001b[0;34m\u001b[0m\u001b[0;34m\u001b[0m\u001b[0m\n\u001b[1;32m      5\u001b[0m          \u001b[0mmodel_path\u001b[0m\u001b[0;34m=\u001b[0m\u001b[0;34m\"drive/MyDrive/experiment/best_vit_patch16_miil_fine_tuned_5.pth\"\u001b[0m\u001b[0;34m,\u001b[0m\u001b[0;34m\u001b[0m\u001b[0;34m\u001b[0m\u001b[0m\n",
            "\u001b[0;32m/content/jarry_cv_mva_competition/main.py\u001b[0m in \u001b[0;36mmain\u001b[0;34m(data_folder, experiment_folder, model_name, model_path, model_type, batch_size, num_workers, momentum, epochs, seed, lr, saving_frequency, log_interval, fine_tune, optimizer, hidden_layers, tuning_layers)\u001b[0m\n\u001b[1;32m    140\u001b[0m     \u001b[0;32mfor\u001b[0m \u001b[0mepoch\u001b[0m \u001b[0;32min\u001b[0m \u001b[0mrange\u001b[0m\u001b[0;34m(\u001b[0m\u001b[0;36m1\u001b[0m\u001b[0;34m,\u001b[0m \u001b[0mepochs\u001b[0m \u001b[0;34m+\u001b[0m \u001b[0;36m1\u001b[0m\u001b[0;34m)\u001b[0m\u001b[0;34m:\u001b[0m\u001b[0;34m\u001b[0m\u001b[0;34m\u001b[0m\u001b[0m\n\u001b[1;32m    141\u001b[0m         \u001b[0;31m# Training loop\u001b[0m\u001b[0;34m\u001b[0m\u001b[0;34m\u001b[0m\u001b[0m\n\u001b[0;32m--> 142\u001b[0;31m         \u001b[0mtrain_loss\u001b[0m\u001b[0;34m,\u001b[0m \u001b[0mtrain_accuracy\u001b[0m \u001b[0;34m=\u001b[0m \u001b[0mtrain\u001b[0m\u001b[0;34m(\u001b[0m\u001b[0mmodel\u001b[0m\u001b[0;34m,\u001b[0m \u001b[0moptimizer\u001b[0m\u001b[0;34m,\u001b[0m \u001b[0mtrain_loader\u001b[0m\u001b[0;34m,\u001b[0m \u001b[0muse_cuda\u001b[0m\u001b[0;34m,\u001b[0m \u001b[0mepoch\u001b[0m\u001b[0;34m,\u001b[0m \u001b[0mlog_interval\u001b[0m\u001b[0;34m)\u001b[0m\u001b[0;34m\u001b[0m\u001b[0;34m\u001b[0m\u001b[0m\n\u001b[0m\u001b[1;32m    143\u001b[0m         \u001b[0mtrain_losses\u001b[0m\u001b[0;34m.\u001b[0m\u001b[0mappend\u001b[0m\u001b[0;34m(\u001b[0m\u001b[0mtrain_loss\u001b[0m\u001b[0;34m)\u001b[0m\u001b[0;34m\u001b[0m\u001b[0;34m\u001b[0m\u001b[0m\n\u001b[1;32m    144\u001b[0m         \u001b[0mtrain_accuracies\u001b[0m\u001b[0;34m.\u001b[0m\u001b[0mappend\u001b[0m\u001b[0;34m(\u001b[0m\u001b[0mtrain_accuracy\u001b[0m\u001b[0;34m)\u001b[0m\u001b[0;34m\u001b[0m\u001b[0;34m\u001b[0m\u001b[0m\n",
            "\u001b[0;32m/content/jarry_cv_mva_competition/main.py\u001b[0m in \u001b[0;36mtrain\u001b[0;34m(model, optimizer, train_loader, use_cuda, epoch, log_interval)\u001b[0m\n\u001b[1;32m     32\u001b[0m         \u001b[0moptimizer\u001b[0m\u001b[0;34m.\u001b[0m\u001b[0mstep\u001b[0m\u001b[0;34m(\u001b[0m\u001b[0;34m)\u001b[0m\u001b[0;34m\u001b[0m\u001b[0;34m\u001b[0m\u001b[0m\n\u001b[1;32m     33\u001b[0m         \u001b[0mpred\u001b[0m \u001b[0;34m=\u001b[0m \u001b[0moutput\u001b[0m\u001b[0;34m.\u001b[0m\u001b[0mdata\u001b[0m\u001b[0;34m.\u001b[0m\u001b[0mmax\u001b[0m\u001b[0;34m(\u001b[0m\u001b[0;36m1\u001b[0m\u001b[0;34m,\u001b[0m \u001b[0mkeepdim\u001b[0m\u001b[0;34m=\u001b[0m\u001b[0;32mTrue\u001b[0m\u001b[0;34m)\u001b[0m\u001b[0;34m[\u001b[0m\u001b[0;36m1\u001b[0m\u001b[0;34m]\u001b[0m\u001b[0;34m\u001b[0m\u001b[0;34m\u001b[0m\u001b[0m\n\u001b[0;32m---> 34\u001b[0;31m         \u001b[0mcorrect\u001b[0m \u001b[0;34m+=\u001b[0m \u001b[0mpred\u001b[0m\u001b[0;34m.\u001b[0m\u001b[0meq\u001b[0m\u001b[0;34m(\u001b[0m\u001b[0mtarget\u001b[0m\u001b[0;34m.\u001b[0m\u001b[0mdata\u001b[0m\u001b[0;34m.\u001b[0m\u001b[0mview_as\u001b[0m\u001b[0;34m(\u001b[0m\u001b[0mpred\u001b[0m\u001b[0;34m)\u001b[0m\u001b[0;34m)\u001b[0m\u001b[0;34m.\u001b[0m\u001b[0mcpu\u001b[0m\u001b[0;34m(\u001b[0m\u001b[0;34m)\u001b[0m\u001b[0;34m.\u001b[0m\u001b[0msum\u001b[0m\u001b[0;34m(\u001b[0m\u001b[0;34m)\u001b[0m\u001b[0;34m\u001b[0m\u001b[0;34m\u001b[0m\u001b[0m\n\u001b[0m\u001b[1;32m     35\u001b[0m \u001b[0;34m\u001b[0m\u001b[0m\n\u001b[1;32m     36\u001b[0m         \u001b[0;31m# Optionally log detailed info (comment out for cleaner output)\u001b[0m\u001b[0;34m\u001b[0m\u001b[0;34m\u001b[0m\u001b[0m\n",
            "\u001b[0;31mKeyboardInterrupt\u001b[0m: "
          ]
        }
      ],
      "source": [
        "main(data_folder=\"drive/MyDrive/mva_competition\",\n",
        "         experiment_folder=\"drive/MyDrive/experiment\",\n",
        "         model_name=\"vit_patch16_miil_fine_tuned_2\",\n",
        "         model_type=\"vit_base_patch16_224_miil_in21k\",\n",
        "         model_path=None,\n",
        "         batch_size=128,\n",
        "         num_workers=4,\n",
        "         momentum=0.5,\n",
        "         epochs=100,\n",
        "         seed=42,\n",
        "         hidden_layers=2,\n",
        "         lr=1e-5,\n",
        "         saving_frequency=5,\n",
        "         log_interval=10,\n",
        "         tuning_layers=2,\n",
        "         fine_tune=True,\n",
        "         optimizer=\"AdamW\",\n",
        "     )"
      ]
    },
    {
      "cell_type": "code",
      "execution_count": null,
      "metadata": {
        "colab": {
          "base_uri": "https://localhost:8080/"
        },
        "id": "IggYosGHWY7F",
        "outputId": "1eb1544e-d138-424e-9932-f18f77215570"
      },
      "outputs": [
        {
          "name": "stdout",
          "output_type": "stream",
          "text": [
            "Using the Vision Transformer architecture.\n",
            "Succesfully loaded weights\n",
            "successfully parrallelized\n",
            "Using GPU\n",
            "Validation loss : 0.4840439631031897, Validation accuracy : 88.16000366210938 %\n"
          ]
        },
        {
          "name": "stderr",
          "output_type": "stream",
          "text": [
            "100%|██████████| 5455/5455 [02:51<00:00, 31.82it/s]"
          ]
        },
        {
          "name": "stdout",
          "output_type": "stream",
          "text": [
            "Succesfully wrote drive/MyDrive/test_results/vit_base_6_results.csv, you can upload this file to the kaggle competition website\n"
          ]
        },
        {
          "name": "stderr",
          "output_type": "stream",
          "text": [
            "\n"
          ]
        }
      ],
      "source": [
        "test(\n",
        "    model_name=\"vit_base_6_blocks_fine_tuning\",\n",
        "    model_path=\"drive/MyDrive/experiment/best_vit_base_6_blocks_fine_tuning.pth\",\n",
        "    outfile=\"drive/MyDrive/test_results/vit_base_6_results.csv\",\n",
        "    data=\"drive/MyDrive/mva_competition\",\n",
        "    batch_size=32,\n",
        "    num_workers=4,\n",
        ")"
      ]
    },
    {
      "cell_type": "code",
      "execution_count": null,
      "metadata": {
        "id": "3gZ0SgbfYY5F"
      },
      "outputs": [],
      "source": [
        " main(data_folder=\"drive/MyDrive/mva_competition\",\n",
        "         experiment_folder=\"drive/MyDrive/experiment\",\n",
        "         model_name=\"vit_base_5_blocks_fine_tuning\",\n",
        "         model_path=None,\n",
        "         batch_size=128,\n",
        "         num_workers=4,\n",
        "         momentum=0.5,\n",
        "         epochs=100,\n",
        "         seed=42,\n",
        "         lr=2e-5,\n",
        "         saving_frequency=5,\n",
        "         log_interval=10,\n",
        "         tuning_layers=5,\n",
        "         fine_tune=True,\n",
        "         optimizer=\"AdamW\",\n",
        "         )"
      ]
    },
    {
      "cell_type": "code",
      "execution_count": null,
      "metadata": {
        "id": "fyemYHH0lJV2"
      },
      "outputs": [],
      "source": [
        " main(data_folder=\"drive/MyDrive/mva_competition\",\n",
        "         experiment_folder=\"drive/MyDrive/experiment\",\n",
        "         model_name=\"vit_base_6_blocks_fine_tuning\",\n",
        "         model_path=None,\n",
        "         batch_size=128,\n",
        "         num_workers=4,\n",
        "         momentum=0.5,\n",
        "         epochs=100,\n",
        "         seed=42,\n",
        "         lr=2e-5,\n",
        "         saving_frequency=5,\n",
        "         log_interval=10,\n",
        "         tuning_layers=6,\n",
        "         fine_tune=True,\n",
        "         optimizer=\"AdamW\",\n",
        "         )"
      ]
    },
    {
      "cell_type": "code",
      "execution_count": null,
      "metadata": {
        "id": "QTU2SB72BjnH"
      },
      "outputs": [],
      "source": [
        "tuning_layers = []\n",
        "\n",
        "main(data_folder='drive/MyDrive/mva_competition',\n",
        "     model_name=\"vgg16\",\n",
        "     model_path=\"drive/MyDrive/models/vgg16_train_60_epochs.pth\",\n",
        "     epochs=30,\n",
        "     lr=1e-2,\n",
        "     batch_size=128,\n",
        "     fine_tune=True,\n",
        "     tuning_layers=tuning_layers\n",
        "     )"
      ]
    },
    {
      "cell_type": "code",
      "execution_count": null,
      "metadata": {
        "id": "DyGSgnA43Crw"
      },
      "outputs": [],
      "source": [
        "tuning_layers = []\n",
        "\n",
        "main(data_folder='drive/MyDrive/mva_competition',\n",
        "     model_name=\"vgg16_full\",\n",
        "     model_path=\"drive/MyDrive/models/vgg16_train_60_epochs.pth\",\n",
        "     epochs=100,\n",
        "     lr=1e-2,\n",
        "     batch_size=128,\n",
        "     fine_tune=False,\n",
        "     tuning_layers=tuning_layers\n",
        "     )"
      ]
    },
    {
      "cell_type": "code",
      "execution_count": null,
      "metadata": {
        "id": "Ytui-UqtV16z"
      },
      "outputs": [],
      "source": [
        "main(data_folder='drive/MyDrive/mva_competition',\n",
        "     model_name=\"ResNet50\",\n",
        "     model_path=\"drive/MyDrive/models/resnet50_train_60_epochs.pth\",\n",
        "     epochs=30,\n",
        "     lr=1e-2,\n",
        "     batch_size=128,\n",
        "     fine_tune=True,\n",
        "     tuning_layers=tuning_layers\n",
        "     )"
      ]
    },
    {
      "cell_type": "code",
      "execution_count": null,
      "metadata": {
        "id": "KB8Ku7hoWNTD"
      },
      "outputs": [],
      "source": [
        "main(data_folder='drive/MyDrive/mva_competition',\n",
        "     model_name=\"resnet50_not_finetuned\",\n",
        "     model_path=\"drive/MyDrive/models/resnet50_train_60.pth\",\n",
        "     epochs=100,\n",
        "     lr=1e-2,\n",
        "     batch_size=128,\n",
        "     fine_tune=False,\n",
        "     tuning_layers=[])"
      ]
    },
    {
      "cell_type": "code",
      "execution_count": 1,
      "metadata": {
        "id": "pm82zbvrWS6l",
        "colab": {
          "base_uri": "https://localhost:8080/",
          "height": 211
        },
        "outputId": "dc383bc3-021b-4188-a2f8-0d05adaed16d"
      },
      "outputs": [
        {
          "output_type": "error",
          "ename": "NameError",
          "evalue": "name 'main' is not defined",
          "traceback": [
            "\u001b[0;31m---------------------------------------------------------------------------\u001b[0m",
            "\u001b[0;31mNameError\u001b[0m                                 Traceback (most recent call last)",
            "\u001b[0;32m<ipython-input-1-a5163bfdaddf>\u001b[0m in \u001b[0;36m<cell line: 1>\u001b[0;34m()\u001b[0m\n\u001b[0;32m----> 1\u001b[0;31m main(data_folder='drive/MyDrive/mva_competition',\n\u001b[0m\u001b[1;32m      2\u001b[0m      \u001b[0mmodel_name\u001b[0m\u001b[0;34m=\u001b[0m\u001b[0;34m\"AlexNet\"\u001b[0m\u001b[0;34m,\u001b[0m\u001b[0;34m\u001b[0m\u001b[0;34m\u001b[0m\u001b[0m\n\u001b[1;32m      3\u001b[0m      \u001b[0mmodel_path\u001b[0m\u001b[0;34m=\u001b[0m\u001b[0;34m\"drive/MyDrive/models/AlexNet_train_60_epochs.pth\"\u001b[0m\u001b[0;34m,\u001b[0m\u001b[0;34m\u001b[0m\u001b[0;34m\u001b[0m\u001b[0m\n\u001b[1;32m      4\u001b[0m      \u001b[0mepochs\u001b[0m\u001b[0;34m=\u001b[0m\u001b[0;36m100\u001b[0m\u001b[0;34m,\u001b[0m\u001b[0;34m\u001b[0m\u001b[0;34m\u001b[0m\u001b[0m\n\u001b[1;32m      5\u001b[0m      \u001b[0mlr\u001b[0m\u001b[0;34m=\u001b[0m\u001b[0;36m1e-2\u001b[0m\u001b[0;34m,\u001b[0m\u001b[0;34m\u001b[0m\u001b[0;34m\u001b[0m\u001b[0m\n",
            "\u001b[0;31mNameError\u001b[0m: name 'main' is not defined"
          ]
        }
      ],
      "source": [
        "main(data_folder='drive/MyDrive/mva_competition',\n",
        "     model_name=\"AlexNet\",\n",
        "     model_path=\"drive/MyDrive/models/AlexNet_train_60_epochs.pth\",\n",
        "     epochs=100,\n",
        "     lr=1e-2,\n",
        "     batch_size=128,\n",
        "     fine_tune=True,\n",
        "     tuning_layers=tuning_layers\n",
        "     )"
      ]
    }
  ],
  "metadata": {
    "accelerator": "GPU",
    "colab": {
      "gpuType": "A100",
      "machine_shape": "hm",
      "provenance": []
    },
    "kernelspec": {
      "display_name": "Python 3",
      "name": "python3"
    },
    "language_info": {
      "name": "python"
    },
    "widgets": {
      "application/vnd.jupyter.widget-state+json": {
        "7f27461b10704a44a5c3863d98d82c2e": {
          "model_module": "@jupyter-widgets/controls",
          "model_name": "HBoxModel",
          "model_module_version": "1.5.0",
          "state": {
            "_dom_classes": [],
            "_model_module": "@jupyter-widgets/controls",
            "_model_module_version": "1.5.0",
            "_model_name": "HBoxModel",
            "_view_count": null,
            "_view_module": "@jupyter-widgets/controls",
            "_view_module_version": "1.5.0",
            "_view_name": "HBoxView",
            "box_style": "",
            "children": [
              "IPY_MODEL_722280c80abf4462ac6fe5ba0e9e8cf1",
              "IPY_MODEL_9142a71e6b6b433d99c324b96940f763",
              "IPY_MODEL_6ba1a9b723614addbec503ec9061e2ff"
            ],
            "layout": "IPY_MODEL_7e19a59d566a426387e9535731690691"
          }
        },
        "722280c80abf4462ac6fe5ba0e9e8cf1": {
          "model_module": "@jupyter-widgets/controls",
          "model_name": "HTMLModel",
          "model_module_version": "1.5.0",
          "state": {
            "_dom_classes": [],
            "_model_module": "@jupyter-widgets/controls",
            "_model_module_version": "1.5.0",
            "_model_name": "HTMLModel",
            "_view_count": null,
            "_view_module": "@jupyter-widgets/controls",
            "_view_module_version": "1.5.0",
            "_view_name": "HTMLView",
            "description": "",
            "description_tooltip": null,
            "layout": "IPY_MODEL_4351eff3c5d8432c8fb4d6fcfdfa9183",
            "placeholder": "​",
            "style": "IPY_MODEL_95cc0b45a6424d4ca3788d6c0cf19107",
            "value": "model.safetensors: 100%"
          }
        },
        "9142a71e6b6b433d99c324b96940f763": {
          "model_module": "@jupyter-widgets/controls",
          "model_name": "FloatProgressModel",
          "model_module_version": "1.5.0",
          "state": {
            "_dom_classes": [],
            "_model_module": "@jupyter-widgets/controls",
            "_model_module_version": "1.5.0",
            "_model_name": "FloatProgressModel",
            "_view_count": null,
            "_view_module": "@jupyter-widgets/controls",
            "_view_module_version": "1.5.0",
            "_view_name": "ProgressView",
            "bar_style": "success",
            "description": "",
            "description_tooltip": null,
            "layout": "IPY_MODEL_13a21b3f190f4057ae950b5db981ccdc",
            "max": 1302790986,
            "min": 0,
            "orientation": "horizontal",
            "style": "IPY_MODEL_62c9b4e772984ff4b251c870c2f6a27b",
            "value": 1302790986
          }
        },
        "6ba1a9b723614addbec503ec9061e2ff": {
          "model_module": "@jupyter-widgets/controls",
          "model_name": "HTMLModel",
          "model_module_version": "1.5.0",
          "state": {
            "_dom_classes": [],
            "_model_module": "@jupyter-widgets/controls",
            "_model_module_version": "1.5.0",
            "_model_name": "HTMLModel",
            "_view_count": null,
            "_view_module": "@jupyter-widgets/controls",
            "_view_module_version": "1.5.0",
            "_view_name": "HTMLView",
            "description": "",
            "description_tooltip": null,
            "layout": "IPY_MODEL_ea129d44e3284fcc9c09a10304ccb561",
            "placeholder": "​",
            "style": "IPY_MODEL_9ade8517e6e1447c9888be83e5bfd992",
            "value": " 1.30G/1.30G [00:07&lt;00:00, 193MB/s]"
          }
        },
        "7e19a59d566a426387e9535731690691": {
          "model_module": "@jupyter-widgets/base",
          "model_name": "LayoutModel",
          "model_module_version": "1.2.0",
          "state": {
            "_model_module": "@jupyter-widgets/base",
            "_model_module_version": "1.2.0",
            "_model_name": "LayoutModel",
            "_view_count": null,
            "_view_module": "@jupyter-widgets/base",
            "_view_module_version": "1.2.0",
            "_view_name": "LayoutView",
            "align_content": null,
            "align_items": null,
            "align_self": null,
            "border": null,
            "bottom": null,
            "display": null,
            "flex": null,
            "flex_flow": null,
            "grid_area": null,
            "grid_auto_columns": null,
            "grid_auto_flow": null,
            "grid_auto_rows": null,
            "grid_column": null,
            "grid_gap": null,
            "grid_row": null,
            "grid_template_areas": null,
            "grid_template_columns": null,
            "grid_template_rows": null,
            "height": null,
            "justify_content": null,
            "justify_items": null,
            "left": null,
            "margin": null,
            "max_height": null,
            "max_width": null,
            "min_height": null,
            "min_width": null,
            "object_fit": null,
            "object_position": null,
            "order": null,
            "overflow": null,
            "overflow_x": null,
            "overflow_y": null,
            "padding": null,
            "right": null,
            "top": null,
            "visibility": null,
            "width": null
          }
        },
        "4351eff3c5d8432c8fb4d6fcfdfa9183": {
          "model_module": "@jupyter-widgets/base",
          "model_name": "LayoutModel",
          "model_module_version": "1.2.0",
          "state": {
            "_model_module": "@jupyter-widgets/base",
            "_model_module_version": "1.2.0",
            "_model_name": "LayoutModel",
            "_view_count": null,
            "_view_module": "@jupyter-widgets/base",
            "_view_module_version": "1.2.0",
            "_view_name": "LayoutView",
            "align_content": null,
            "align_items": null,
            "align_self": null,
            "border": null,
            "bottom": null,
            "display": null,
            "flex": null,
            "flex_flow": null,
            "grid_area": null,
            "grid_auto_columns": null,
            "grid_auto_flow": null,
            "grid_auto_rows": null,
            "grid_column": null,
            "grid_gap": null,
            "grid_row": null,
            "grid_template_areas": null,
            "grid_template_columns": null,
            "grid_template_rows": null,
            "height": null,
            "justify_content": null,
            "justify_items": null,
            "left": null,
            "margin": null,
            "max_height": null,
            "max_width": null,
            "min_height": null,
            "min_width": null,
            "object_fit": null,
            "object_position": null,
            "order": null,
            "overflow": null,
            "overflow_x": null,
            "overflow_y": null,
            "padding": null,
            "right": null,
            "top": null,
            "visibility": null,
            "width": null
          }
        },
        "95cc0b45a6424d4ca3788d6c0cf19107": {
          "model_module": "@jupyter-widgets/controls",
          "model_name": "DescriptionStyleModel",
          "model_module_version": "1.5.0",
          "state": {
            "_model_module": "@jupyter-widgets/controls",
            "_model_module_version": "1.5.0",
            "_model_name": "DescriptionStyleModel",
            "_view_count": null,
            "_view_module": "@jupyter-widgets/base",
            "_view_module_version": "1.2.0",
            "_view_name": "StyleView",
            "description_width": ""
          }
        },
        "13a21b3f190f4057ae950b5db981ccdc": {
          "model_module": "@jupyter-widgets/base",
          "model_name": "LayoutModel",
          "model_module_version": "1.2.0",
          "state": {
            "_model_module": "@jupyter-widgets/base",
            "_model_module_version": "1.2.0",
            "_model_name": "LayoutModel",
            "_view_count": null,
            "_view_module": "@jupyter-widgets/base",
            "_view_module_version": "1.2.0",
            "_view_name": "LayoutView",
            "align_content": null,
            "align_items": null,
            "align_self": null,
            "border": null,
            "bottom": null,
            "display": null,
            "flex": null,
            "flex_flow": null,
            "grid_area": null,
            "grid_auto_columns": null,
            "grid_auto_flow": null,
            "grid_auto_rows": null,
            "grid_column": null,
            "grid_gap": null,
            "grid_row": null,
            "grid_template_areas": null,
            "grid_template_columns": null,
            "grid_template_rows": null,
            "height": null,
            "justify_content": null,
            "justify_items": null,
            "left": null,
            "margin": null,
            "max_height": null,
            "max_width": null,
            "min_height": null,
            "min_width": null,
            "object_fit": null,
            "object_position": null,
            "order": null,
            "overflow": null,
            "overflow_x": null,
            "overflow_y": null,
            "padding": null,
            "right": null,
            "top": null,
            "visibility": null,
            "width": null
          }
        },
        "62c9b4e772984ff4b251c870c2f6a27b": {
          "model_module": "@jupyter-widgets/controls",
          "model_name": "ProgressStyleModel",
          "model_module_version": "1.5.0",
          "state": {
            "_model_module": "@jupyter-widgets/controls",
            "_model_module_version": "1.5.0",
            "_model_name": "ProgressStyleModel",
            "_view_count": null,
            "_view_module": "@jupyter-widgets/base",
            "_view_module_version": "1.2.0",
            "_view_name": "StyleView",
            "bar_color": null,
            "description_width": ""
          }
        },
        "ea129d44e3284fcc9c09a10304ccb561": {
          "model_module": "@jupyter-widgets/base",
          "model_name": "LayoutModel",
          "model_module_version": "1.2.0",
          "state": {
            "_model_module": "@jupyter-widgets/base",
            "_model_module_version": "1.2.0",
            "_model_name": "LayoutModel",
            "_view_count": null,
            "_view_module": "@jupyter-widgets/base",
            "_view_module_version": "1.2.0",
            "_view_name": "LayoutView",
            "align_content": null,
            "align_items": null,
            "align_self": null,
            "border": null,
            "bottom": null,
            "display": null,
            "flex": null,
            "flex_flow": null,
            "grid_area": null,
            "grid_auto_columns": null,
            "grid_auto_flow": null,
            "grid_auto_rows": null,
            "grid_column": null,
            "grid_gap": null,
            "grid_row": null,
            "grid_template_areas": null,
            "grid_template_columns": null,
            "grid_template_rows": null,
            "height": null,
            "justify_content": null,
            "justify_items": null,
            "left": null,
            "margin": null,
            "max_height": null,
            "max_width": null,
            "min_height": null,
            "min_width": null,
            "object_fit": null,
            "object_position": null,
            "order": null,
            "overflow": null,
            "overflow_x": null,
            "overflow_y": null,
            "padding": null,
            "right": null,
            "top": null,
            "visibility": null,
            "width": null
          }
        },
        "9ade8517e6e1447c9888be83e5bfd992": {
          "model_module": "@jupyter-widgets/controls",
          "model_name": "DescriptionStyleModel",
          "model_module_version": "1.5.0",
          "state": {
            "_model_module": "@jupyter-widgets/controls",
            "_model_module_version": "1.5.0",
            "_model_name": "DescriptionStyleModel",
            "_view_count": null,
            "_view_module": "@jupyter-widgets/base",
            "_view_module_version": "1.2.0",
            "_view_name": "StyleView",
            "description_width": ""
          }
        }
      }
    }
  },
  "nbformat": 4,
  "nbformat_minor": 0
}